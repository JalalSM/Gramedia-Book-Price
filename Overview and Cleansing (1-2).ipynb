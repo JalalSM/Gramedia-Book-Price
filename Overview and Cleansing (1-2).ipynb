{
 "cells": [
  {
   "cell_type": "markdown",
   "id": "5a840c6d-6e5a-4c60-a42e-9f42818b0fac",
   "metadata": {
    "tags": []
   },
   "source": [
    "# Overview"
   ]
  },
  {
   "cell_type": "markdown",
   "id": "37c58278-a010-48c2-9b40-300efce124a1",
   "metadata": {},
   "source": [
    "Hi, I'm Jalal. This is my individual project that I've created from scraping ***Gramedia Official Site*** ( The biggest bookstore in Indonesia ). The goals are :\n",
    "- **Identify** what things that have **a significant effect** on **book price**\n",
    "- Create a **regression model** to predict the price"
   ]
  },
  {
   "cell_type": "markdown",
   "id": "9dfdedb8-875b-46fa-9324-20450e1aee02",
   "metadata": {},
   "source": [
    "There are some variables that I've got from the website :\n",
    "1. Link of the book\n",
    "2. Title\n",
    "3. Author\n",
    "4. Publisher\n",
    "5. Type of cover (sot, hard, ebook)\n",
    "6. Number of pages\n",
    "7. Publish date\n",
    "8. Language\n",
    "9. Price\n",
    "10. Book width (cm)\n",
    "11. Book length (cm)\n",
    "12. Store\n",
    "13. Region of store\n",
    "14. Book weight (kg)"
   ]
  },
  {
   "cell_type": "markdown",
   "id": "f9ed9280-490c-4d33-8955-1e709cef6e77",
   "metadata": {},
   "source": [
    "I was scraping **nonfiction** and **fiction** categories. And from that, I broke down into **several subcategories** such as self-development, comic, religion, and etc. The variables above are added by two columns (category and sub-category) which **might** those variables **affect** the book price. So, we got **17 variables** for this analysis"
   ]
  },
  {
   "cell_type": "markdown",
   "id": "2a1c13a2-4c94-476b-98b0-8ee0f181e7fe",
   "metadata": {
    "tags": []
   },
   "source": [
    "# Data Wrangling"
   ]
  },
  {
   "cell_type": "code",
   "execution_count": 1,
   "id": "5dc9785c-87ac-4fbd-bd64-0e8ad937f9c9",
   "metadata": {},
   "outputs": [],
   "source": [
    "import pandas as pd\n",
    "import numpy as np\n",
    "import matplotlib.pyplot as plt\n",
    "import seaborn as sns\n",
    "import warnings\n",
    "from matplotlib.pyplot import rcParams\n",
    "warnings.filterwarnings('ignore')"
   ]
  },
  {
   "cell_type": "code",
   "execution_count": 2,
   "id": "63946044-a06f-4634-ae98-07f2a6aaf4f8",
   "metadata": {},
   "outputs": [],
   "source": [
    "pd.set_option('display.max_columns',100)\n",
    "rcParams['figure.figsize'] = (15,5)\n",
    "rcParams['axes.grid'] = True\n",
    "rcParams['axes.spines.right'] = False\n",
    "rcParams['axes.spines.top'] = False\n",
    "rcParams['axes.spines.left'] = False\n",
    "plt.rc('axes',axisbelow=True)"
   ]
  },
  {
   "cell_type": "code",
   "execution_count": 3,
   "id": "9bcc6d76-d559-4a02-a146-500101238361",
   "metadata": {},
   "outputs": [],
   "source": [
    "agama      = pd.read_csv('D:/Data/Gramed/agama.csv')\n",
    "pendidikan = pd.read_csv('D:/Data/Gramed/pendidikan.csv')\n",
    "bisnis     = pd.read_csv('D:/Data/gramed/bisnis.csv')\n",
    "self_dev   = pd.read_csv('D:/Data/Gramed/self.csv')\n",
    "fiksi_pop  = pd.read_csv('D:/Data/gramed/fiksi_popular.csv')\n",
    "komik_lok  = pd.read_csv('D:/Data/gramed/komik_lokal.csv')\n",
    "manga      = pd.read_csv('D:/Data/gramed/komik_manga.csv')\n",
    "sastra     = pd.read_csv('D:/Data/gramed/sastra.csv')"
   ]
  },
  {
   "cell_type": "markdown",
   "id": "66b09263-f0f3-443f-9d13-74a84cfa116e",
   "metadata": {},
   "source": [
    "- Create function to give the name of each category and subcategory"
   ]
  },
  {
   "cell_type": "code",
   "execution_count": 4,
   "id": "2f0c8682-d282-4768-89e7-096d4fb59d5a",
   "metadata": {},
   "outputs": [],
   "source": [
    "def category_nonfiction(column,sub):\n",
    "    column['category'] = 'nonfiction'\n",
    "    column['subcategory'] = sub\n",
    "    \n",
    "def category_fiction(column,sub):\n",
    "    column['category'] = 'fiction'\n",
    "    column['subcategory'] = sub"
   ]
  },
  {
   "cell_type": "code",
   "execution_count": 5,
   "id": "5ac78822-22d0-48ee-8ac9-56ddb6c89b66",
   "metadata": {},
   "outputs": [],
   "source": [
    "category_nonfiction(pendidikan,'pendidikan')\n",
    "category_nonfiction(agama,'agama')\n",
    "category_nonfiction(self_dev,'self_development')\n",
    "category_nonfiction(bisnis,'bisnis')\n",
    "category_fiction(fiksi_pop,'fiksi_popular')\n",
    "category_fiction(komik_lok,'komik_lokal')\n",
    "category_fiction(manga,'manga')\n",
    "category_fiction(sastra,'sastra')"
   ]
  },
  {
   "cell_type": "code",
   "execution_count": 6,
   "id": "42b86729-dcae-4ee4-9761-e8ff4e0c4d51",
   "metadata": {},
   "outputs": [],
   "source": [
    "df = pd.concat([agama,pendidikan,self_dev,bisnis,fiksi_pop,komik_lok,manga,sastra]).reset_index(drop=True)"
   ]
  },
  {
   "cell_type": "code",
   "execution_count": 7,
   "id": "1ece6edf-6996-4ee9-802d-21e3639ea576",
   "metadata": {},
   "outputs": [],
   "source": [
    "df.drop(columns=df.columns[:3],inplace=True)\n",
    "df.rename({'link-href':'link'},axis=1,inplace=True)"
   ]
  },
  {
   "cell_type": "markdown",
   "id": "7f590585-3248-4d94-965f-66368bbbfbdc",
   "metadata": {},
   "source": [
    "**We'll keep the link**\n",
    "- For what? "
   ]
  },
  {
   "cell_type": "markdown",
   "id": "ed5bb4ec-1ba9-4b40-8f10-992db16690ee",
   "metadata": {},
   "source": [
    "If some values are **detected** missing during analysis, we can check them from the website"
   ]
  },
  {
   "cell_type": "code",
   "execution_count": 8,
   "id": "3b041510-49fa-4178-b964-b0c922de0a9c",
   "metadata": {},
   "outputs": [
    {
     "data": {
      "text/html": [
       "<div>\n",
       "<style scoped>\n",
       "    .dataframe tbody tr th:only-of-type {\n",
       "        vertical-align: middle;\n",
       "    }\n",
       "\n",
       "    .dataframe tbody tr th {\n",
       "        vertical-align: top;\n",
       "    }\n",
       "\n",
       "    .dataframe thead th {\n",
       "        text-align: right;\n",
       "    }\n",
       "</style>\n",
       "<table border=\"1\" class=\"dataframe\">\n",
       "  <thead>\n",
       "    <tr style=\"text-align: right;\">\n",
       "      <th></th>\n",
       "      <th>link</th>\n",
       "      <th>author</th>\n",
       "      <th>title</th>\n",
       "      <th>cover</th>\n",
       "      <th>publisher</th>\n",
       "      <th>pages</th>\n",
       "      <th>publish_date</th>\n",
       "      <th>language</th>\n",
       "      <th>weight</th>\n",
       "      <th>width</th>\n",
       "      <th>length</th>\n",
       "      <th>price</th>\n",
       "      <th>store</th>\n",
       "      <th>region</th>\n",
       "      <th>category</th>\n",
       "      <th>subcategory</th>\n",
       "    </tr>\n",
       "  </thead>\n",
       "  <tbody>\n",
       "    <tr>\n",
       "      <th>3766</th>\n",
       "      <td>https://www.gramedia.com/products/muda-cerdas-...</td>\n",
       "      <td>Edwin Santoso</td>\n",
       "      <td>Muda Cerdas, Tua Mapan</td>\n",
       "      <td>Soft Cover</td>\n",
       "      <td>Elex Media Komputindo</td>\n",
       "      <td>148.0</td>\n",
       "      <td>18 Nov 2019</td>\n",
       "      <td>Indonesia</td>\n",
       "      <td>0.25 kg</td>\n",
       "      <td>14.0 cm</td>\n",
       "      <td>21.0cm</td>\n",
       "      <td>Rp 55.000</td>\n",
       "      <td>Matraman</td>\n",
       "      <td>Jakarta Timur</td>\n",
       "      <td>nonfiction</td>\n",
       "      <td>bisnis</td>\n",
       "    </tr>\n",
       "    <tr>\n",
       "      <th>5654</th>\n",
       "      <td>https://www.gramedia.com/products/negeri-senja-1</td>\n",
       "      <td>Seno Gumira Ajidarma</td>\n",
       "      <td>NEGERI SENJA</td>\n",
       "      <td>Soft Cover</td>\n",
       "      <td>Kepustakaan Populer Gramedia</td>\n",
       "      <td>264.0</td>\n",
       "      <td>17 Feb 2021</td>\n",
       "      <td>Indonesia</td>\n",
       "      <td>0.35 kg</td>\n",
       "      <td>14.0 cm</td>\n",
       "      <td>21.0cm</td>\n",
       "      <td>Rp 64.000</td>\n",
       "      <td>Gramedia Depok</td>\n",
       "      <td>Depok</td>\n",
       "      <td>fiction</td>\n",
       "      <td>sastra</td>\n",
       "    </tr>\n",
       "    <tr>\n",
       "      <th>3747</th>\n",
       "      <td>https://www.gramedia.com/products/corporate-so...</td>\n",
       "      <td>Prof. Dwi Kartini</td>\n",
       "      <td>Corporate Social Responsibility Ed. Revisi</td>\n",
       "      <td>Soft Cover</td>\n",
       "      <td>Pt. Refika Aditama</td>\n",
       "      <td>180.0</td>\n",
       "      <td>29 Apr 2020</td>\n",
       "      <td>Indonesia</td>\n",
       "      <td>0.265 kg</td>\n",
       "      <td>16.0 cm</td>\n",
       "      <td>24.0cm</td>\n",
       "      <td>Rp 60.000</td>\n",
       "      <td>Gramedia Bandung Merdeka</td>\n",
       "      <td>Kota Bandung</td>\n",
       "      <td>nonfiction</td>\n",
       "      <td>bisnis</td>\n",
       "    </tr>\n",
       "    <tr>\n",
       "      <th>1816</th>\n",
       "      <td>https://www.gramedia.com/products/smpmts-2b-kl...</td>\n",
       "      <td>RETNO W.-SRI S</td>\n",
       "      <td>Smp/Mts 2B Kls.Viii Ipa Terpadu /K13N</td>\n",
       "      <td>Soft Cover</td>\n",
       "      <td>Penerbit Erlangga</td>\n",
       "      <td>212.0</td>\n",
       "      <td>14 Jul 2020</td>\n",
       "      <td>Indonesia</td>\n",
       "      <td>0.375 kg</td>\n",
       "      <td>17.5 cm</td>\n",
       "      <td>25.0cm</td>\n",
       "      <td>Rp 69.600</td>\n",
       "      <td>Gramedia Depok</td>\n",
       "      <td>Depok</td>\n",
       "      <td>nonfiction</td>\n",
       "      <td>pendidikan</td>\n",
       "    </tr>\n",
       "    <tr>\n",
       "      <th>3723</th>\n",
       "      <td>https://www.gramedia.com/products/buka-hati-bu...</td>\n",
       "      <td>Andreas Freddy Pieloor</td>\n",
       "      <td>Buka Hati Buka Dompet Buka Celana</td>\n",
       "      <td>Soft Cover</td>\n",
       "      <td>Elex Media Komputindo</td>\n",
       "      <td>168</td>\n",
       "      <td>27 Mei 2019</td>\n",
       "      <td>Indonesia</td>\n",
       "      <td>0.120 kg</td>\n",
       "      <td>14 cm</td>\n",
       "      <td>21cm</td>\n",
       "      <td>Rp 54.800</td>\n",
       "      <td>Gramedia Pejaten</td>\n",
       "      <td>Jakarta Selatan</td>\n",
       "      <td>nonfiction</td>\n",
       "      <td>bisnis</td>\n",
       "    </tr>\n",
       "  </tbody>\n",
       "</table>\n",
       "</div>"
      ],
      "text/plain": [
       "                                                   link  \\\n",
       "3766  https://www.gramedia.com/products/muda-cerdas-...   \n",
       "5654   https://www.gramedia.com/products/negeri-senja-1   \n",
       "3747  https://www.gramedia.com/products/corporate-so...   \n",
       "1816  https://www.gramedia.com/products/smpmts-2b-kl...   \n",
       "3723  https://www.gramedia.com/products/buka-hati-bu...   \n",
       "\n",
       "                      author                                       title  \\\n",
       "3766           Edwin Santoso                      Muda Cerdas, Tua Mapan   \n",
       "5654    Seno Gumira Ajidarma                                NEGERI SENJA   \n",
       "3747       Prof. Dwi Kartini  Corporate Social Responsibility Ed. Revisi   \n",
       "1816          RETNO W.-SRI S       Smp/Mts 2B Kls.Viii Ipa Terpadu /K13N   \n",
       "3723  Andreas Freddy Pieloor           Buka Hati Buka Dompet Buka Celana   \n",
       "\n",
       "           cover                     publisher  pages publish_date   language  \\\n",
       "3766  Soft Cover         Elex Media Komputindo  148.0  18 Nov 2019  Indonesia   \n",
       "5654  Soft Cover  Kepustakaan Populer Gramedia  264.0  17 Feb 2021  Indonesia   \n",
       "3747  Soft Cover            Pt. Refika Aditama  180.0  29 Apr 2020  Indonesia   \n",
       "1816  Soft Cover             Penerbit Erlangga  212.0  14 Jul 2020  Indonesia   \n",
       "3723  Soft Cover         Elex Media Komputindo    168  27 Mei 2019  Indonesia   \n",
       "\n",
       "        weight    width  length      price                     store  \\\n",
       "3766   0.25 kg  14.0 cm  21.0cm  Rp 55.000                  Matraman   \n",
       "5654   0.35 kg  14.0 cm  21.0cm  Rp 64.000            Gramedia Depok   \n",
       "3747  0.265 kg  16.0 cm  24.0cm  Rp 60.000  Gramedia Bandung Merdeka   \n",
       "1816  0.375 kg  17.5 cm  25.0cm  Rp 69.600            Gramedia Depok   \n",
       "3723  0.120 kg    14 cm    21cm  Rp 54.800          Gramedia Pejaten   \n",
       "\n",
       "               region    category subcategory  \n",
       "3766    Jakarta Timur  nonfiction      bisnis  \n",
       "5654            Depok     fiction      sastra  \n",
       "3747     Kota Bandung  nonfiction      bisnis  \n",
       "1816            Depok  nonfiction  pendidikan  \n",
       "3723  Jakarta Selatan  nonfiction      bisnis  "
      ]
     },
     "execution_count": 8,
     "metadata": {},
     "output_type": "execute_result"
    }
   ],
   "source": [
    "df.sample(5)"
   ]
  },
  {
   "cell_type": "code",
   "execution_count": 9,
   "id": "50a21d27-8093-47e7-84eb-bd72a03da01f",
   "metadata": {},
   "outputs": [
    {
     "name": "stdout",
     "output_type": "stream",
     "text": [
      "<class 'pandas.core.frame.DataFrame'>\n",
      "RangeIndex: 6289 entries, 0 to 6288\n",
      "Data columns (total 16 columns):\n",
      " #   Column        Non-Null Count  Dtype \n",
      "---  ------        --------------  ----- \n",
      " 0   link          6289 non-null   object\n",
      " 1   author        6084 non-null   object\n",
      " 2   title         6209 non-null   object\n",
      " 3   cover         5734 non-null   object\n",
      " 4   publisher     6209 non-null   object\n",
      " 5   pages         6209 non-null   object\n",
      " 6   publish_date  6209 non-null   object\n",
      " 7   language      6207 non-null   object\n",
      " 8   weight        6185 non-null   object\n",
      " 9   width         6105 non-null   object\n",
      " 10  length        5963 non-null   object\n",
      " 11  price         5734 non-null   object\n",
      " 12  store         5735 non-null   object\n",
      " 13  region        5561 non-null   object\n",
      " 14  category      6289 non-null   object\n",
      " 15  subcategory   6289 non-null   object\n",
      "dtypes: object(16)\n",
      "memory usage: 786.2+ KB\n"
     ]
    }
   ],
   "source": [
    "df.info()"
   ]
  },
  {
   "cell_type": "markdown",
   "id": "f7cf21fe-e0f9-45c8-a635-b2370440a141",
   "metadata": {
    "tags": []
   },
   "source": [
    "There are **6289 raws** with **16 columns**. All of the above data types are **objects**. We have to change some of them into numeric. Such as **pages**, **year published** ( I'll create this column later ), **weight** ( kg ), **width** ( cm ), **length** ( cm ), **price**, and **area** ( I'll also create this variable later from multiplication between width and length  )"
   ]
  },
  {
   "cell_type": "markdown",
   "id": "c67a71f2-6caf-4a16-876e-cfe9e0a0fb1e",
   "metadata": {
    "tags": []
   },
   "source": [
    "## Handling Missing Data"
   ]
  },
  {
   "cell_type": "code",
   "execution_count": 10,
   "id": "998b43b5-f1f2-41ed-aec1-417cfc0d6654",
   "metadata": {},
   "outputs": [
    {
     "data": {
      "text/plain": [
       "link              0\n",
       "author          205\n",
       "title            80\n",
       "cover           555\n",
       "publisher        80\n",
       "pages            80\n",
       "publish_date     80\n",
       "language         82\n",
       "weight          104\n",
       "width           184\n",
       "length          326\n",
       "price           555\n",
       "store           554\n",
       "region          728\n",
       "category          0\n",
       "subcategory       0\n",
       "dtype: int64"
      ]
     },
     "execution_count": 10,
     "metadata": {},
     "output_type": "execute_result"
    }
   ],
   "source": [
    "df.isna().sum()"
   ]
  },
  {
   "cell_type": "markdown",
   "id": "e0a9cad5-d560-4208-b058-6c2ac8ff52c8",
   "metadata": {
    "tags": []
   },
   "source": [
    "So many missing values in there. Instead of removing all of them directly, we're gonna analyze each variable one by one by :\n",
    "- checking the values from the website ( could be from Gramedia site again or others ) \n",
    "- take the value from other data which has the closest value\n",
    "- impute numerical missing values with KNN algorithm\n",
    "- use basic statistical methods such as median, mean, and mode"
   ]
  },
  {
   "cell_type": "markdown",
   "id": "28cd6213-b668-484f-a901-245f104f698e",
   "metadata": {
    "tags": []
   },
   "source": [
    "### Price"
   ]
  },
  {
   "cell_type": "code",
   "execution_count": 11,
   "id": "a0bca949-594e-44c4-bdfb-063429f2849a",
   "metadata": {
    "tags": []
   },
   "outputs": [
    {
     "data": {
      "text/html": [
       "<div>\n",
       "<style scoped>\n",
       "    .dataframe tbody tr th:only-of-type {\n",
       "        vertical-align: middle;\n",
       "    }\n",
       "\n",
       "    .dataframe tbody tr th {\n",
       "        vertical-align: top;\n",
       "    }\n",
       "\n",
       "    .dataframe thead th {\n",
       "        text-align: right;\n",
       "    }\n",
       "</style>\n",
       "<table border=\"1\" class=\"dataframe\">\n",
       "  <thead>\n",
       "    <tr style=\"text-align: right;\">\n",
       "      <th></th>\n",
       "      <th>link</th>\n",
       "      <th>author</th>\n",
       "      <th>title</th>\n",
       "      <th>cover</th>\n",
       "      <th>publisher</th>\n",
       "      <th>pages</th>\n",
       "      <th>publish_date</th>\n",
       "      <th>language</th>\n",
       "      <th>weight</th>\n",
       "      <th>width</th>\n",
       "      <th>length</th>\n",
       "      <th>price</th>\n",
       "      <th>store</th>\n",
       "      <th>region</th>\n",
       "      <th>category</th>\n",
       "      <th>subcategory</th>\n",
       "    </tr>\n",
       "  </thead>\n",
       "  <tbody>\n",
       "    <tr>\n",
       "      <th>19</th>\n",
       "      <td>https://www.gramedia.com/products/muhammad-2</td>\n",
       "      <td>NaN</td>\n",
       "      <td>NaN</td>\n",
       "      <td>NaN</td>\n",
       "      <td>NaN</td>\n",
       "      <td>NaN</td>\n",
       "      <td>NaN</td>\n",
       "      <td>NaN</td>\n",
       "      <td>NaN</td>\n",
       "      <td>NaN</td>\n",
       "      <td>NaN</td>\n",
       "      <td>NaN</td>\n",
       "      <td>NaN</td>\n",
       "      <td>NaN</td>\n",
       "      <td>nonfiction</td>\n",
       "      <td>agama</td>\n",
       "    </tr>\n",
       "    <tr>\n",
       "      <th>52</th>\n",
       "      <td>https://www.gramedia.com/products/jadi-pelajar...</td>\n",
       "      <td>NaN</td>\n",
       "      <td>NaN</td>\n",
       "      <td>NaN</td>\n",
       "      <td>NaN</td>\n",
       "      <td>NaN</td>\n",
       "      <td>NaN</td>\n",
       "      <td>NaN</td>\n",
       "      <td>NaN</td>\n",
       "      <td>NaN</td>\n",
       "      <td>NaN</td>\n",
       "      <td>NaN</td>\n",
       "      <td>NaN</td>\n",
       "      <td>NaN</td>\n",
       "      <td>nonfiction</td>\n",
       "      <td>agama</td>\n",
       "    </tr>\n",
       "    <tr>\n",
       "      <th>102</th>\n",
       "      <td>https://www.gramedia.com/products/islam-yang-m...</td>\n",
       "      <td>NaN</td>\n",
       "      <td>NaN</td>\n",
       "      <td>NaN</td>\n",
       "      <td>NaN</td>\n",
       "      <td>NaN</td>\n",
       "      <td>NaN</td>\n",
       "      <td>NaN</td>\n",
       "      <td>NaN</td>\n",
       "      <td>NaN</td>\n",
       "      <td>NaN</td>\n",
       "      <td>NaN</td>\n",
       "      <td>NaN</td>\n",
       "      <td>NaN</td>\n",
       "      <td>nonfiction</td>\n",
       "      <td>agama</td>\n",
       "    </tr>\n",
       "    <tr>\n",
       "      <th>118</th>\n",
       "      <td>https://www.gramedia.com/products/akhlak-tasaw...</td>\n",
       "      <td>NaN</td>\n",
       "      <td>NaN</td>\n",
       "      <td>NaN</td>\n",
       "      <td>NaN</td>\n",
       "      <td>NaN</td>\n",
       "      <td>NaN</td>\n",
       "      <td>NaN</td>\n",
       "      <td>NaN</td>\n",
       "      <td>NaN</td>\n",
       "      <td>NaN</td>\n",
       "      <td>NaN</td>\n",
       "      <td>NaN</td>\n",
       "      <td>NaN</td>\n",
       "      <td>nonfiction</td>\n",
       "      <td>agama</td>\n",
       "    </tr>\n",
       "    <tr>\n",
       "      <th>164</th>\n",
       "      <td>https://www.gramedia.com/products/samudra-hikm...</td>\n",
       "      <td>NaN</td>\n",
       "      <td>NaN</td>\n",
       "      <td>NaN</td>\n",
       "      <td>NaN</td>\n",
       "      <td>NaN</td>\n",
       "      <td>NaN</td>\n",
       "      <td>NaN</td>\n",
       "      <td>NaN</td>\n",
       "      <td>NaN</td>\n",
       "      <td>NaN</td>\n",
       "      <td>NaN</td>\n",
       "      <td>NaN</td>\n",
       "      <td>NaN</td>\n",
       "      <td>nonfiction</td>\n",
       "      <td>agama</td>\n",
       "    </tr>\n",
       "    <tr>\n",
       "      <th>...</th>\n",
       "      <td>...</td>\n",
       "      <td>...</td>\n",
       "      <td>...</td>\n",
       "      <td>...</td>\n",
       "      <td>...</td>\n",
       "      <td>...</td>\n",
       "      <td>...</td>\n",
       "      <td>...</td>\n",
       "      <td>...</td>\n",
       "      <td>...</td>\n",
       "      <td>...</td>\n",
       "      <td>...</td>\n",
       "      <td>...</td>\n",
       "      <td>...</td>\n",
       "      <td>...</td>\n",
       "      <td>...</td>\n",
       "    </tr>\n",
       "    <tr>\n",
       "      <th>6185</th>\n",
       "      <td>https://www.gramedia.com/products/diandra</td>\n",
       "      <td>NaN</td>\n",
       "      <td>NaN</td>\n",
       "      <td>NaN</td>\n",
       "      <td>NaN</td>\n",
       "      <td>NaN</td>\n",
       "      <td>NaN</td>\n",
       "      <td>NaN</td>\n",
       "      <td>NaN</td>\n",
       "      <td>NaN</td>\n",
       "      <td>NaN</td>\n",
       "      <td>NaN</td>\n",
       "      <td>NaN</td>\n",
       "      <td>NaN</td>\n",
       "      <td>fiction</td>\n",
       "      <td>sastra</td>\n",
       "    </tr>\n",
       "    <tr>\n",
       "      <th>6222</th>\n",
       "      <td>https://www.gramedia.com/products/ceros-dan-ba...</td>\n",
       "      <td>NaN</td>\n",
       "      <td>NaN</td>\n",
       "      <td>NaN</td>\n",
       "      <td>NaN</td>\n",
       "      <td>NaN</td>\n",
       "      <td>NaN</td>\n",
       "      <td>NaN</td>\n",
       "      <td>NaN</td>\n",
       "      <td>NaN</td>\n",
       "      <td>NaN</td>\n",
       "      <td>NaN</td>\n",
       "      <td>NaN</td>\n",
       "      <td>NaN</td>\n",
       "      <td>fiction</td>\n",
       "      <td>sastra</td>\n",
       "    </tr>\n",
       "    <tr>\n",
       "      <th>6227</th>\n",
       "      <td>https://www.gramedia.com/products/cewek-kalong</td>\n",
       "      <td>NaN</td>\n",
       "      <td>NaN</td>\n",
       "      <td>NaN</td>\n",
       "      <td>NaN</td>\n",
       "      <td>NaN</td>\n",
       "      <td>NaN</td>\n",
       "      <td>NaN</td>\n",
       "      <td>NaN</td>\n",
       "      <td>NaN</td>\n",
       "      <td>NaN</td>\n",
       "      <td>NaN</td>\n",
       "      <td>NaN</td>\n",
       "      <td>NaN</td>\n",
       "      <td>fiction</td>\n",
       "      <td>sastra</td>\n",
       "    </tr>\n",
       "    <tr>\n",
       "      <th>6236</th>\n",
       "      <td>https://www.gramedia.com/products/the-castle-i...</td>\n",
       "      <td>NaN</td>\n",
       "      <td>NaN</td>\n",
       "      <td>NaN</td>\n",
       "      <td>NaN</td>\n",
       "      <td>NaN</td>\n",
       "      <td>NaN</td>\n",
       "      <td>NaN</td>\n",
       "      <td>NaN</td>\n",
       "      <td>NaN</td>\n",
       "      <td>NaN</td>\n",
       "      <td>NaN</td>\n",
       "      <td>NaN</td>\n",
       "      <td>NaN</td>\n",
       "      <td>fiction</td>\n",
       "      <td>sastra</td>\n",
       "    </tr>\n",
       "    <tr>\n",
       "      <th>6243</th>\n",
       "      <td>https://www.gramedia.com/products/the-perfect-...</td>\n",
       "      <td>NaN</td>\n",
       "      <td>NaN</td>\n",
       "      <td>NaN</td>\n",
       "      <td>NaN</td>\n",
       "      <td>NaN</td>\n",
       "      <td>NaN</td>\n",
       "      <td>NaN</td>\n",
       "      <td>NaN</td>\n",
       "      <td>NaN</td>\n",
       "      <td>NaN</td>\n",
       "      <td>NaN</td>\n",
       "      <td>NaN</td>\n",
       "      <td>NaN</td>\n",
       "      <td>fiction</td>\n",
       "      <td>sastra</td>\n",
       "    </tr>\n",
       "  </tbody>\n",
       "</table>\n",
       "<p>80 rows × 16 columns</p>\n",
       "</div>"
      ],
      "text/plain": [
       "                                                   link author title cover  \\\n",
       "19         https://www.gramedia.com/products/muhammad-2    NaN   NaN   NaN   \n",
       "52    https://www.gramedia.com/products/jadi-pelajar...    NaN   NaN   NaN   \n",
       "102   https://www.gramedia.com/products/islam-yang-m...    NaN   NaN   NaN   \n",
       "118   https://www.gramedia.com/products/akhlak-tasaw...    NaN   NaN   NaN   \n",
       "164   https://www.gramedia.com/products/samudra-hikm...    NaN   NaN   NaN   \n",
       "...                                                 ...    ...   ...   ...   \n",
       "6185          https://www.gramedia.com/products/diandra    NaN   NaN   NaN   \n",
       "6222  https://www.gramedia.com/products/ceros-dan-ba...    NaN   NaN   NaN   \n",
       "6227     https://www.gramedia.com/products/cewek-kalong    NaN   NaN   NaN   \n",
       "6236  https://www.gramedia.com/products/the-castle-i...    NaN   NaN   NaN   \n",
       "6243  https://www.gramedia.com/products/the-perfect-...    NaN   NaN   NaN   \n",
       "\n",
       "     publisher pages publish_date language weight width length price store  \\\n",
       "19         NaN   NaN          NaN      NaN    NaN   NaN    NaN   NaN   NaN   \n",
       "52         NaN   NaN          NaN      NaN    NaN   NaN    NaN   NaN   NaN   \n",
       "102        NaN   NaN          NaN      NaN    NaN   NaN    NaN   NaN   NaN   \n",
       "118        NaN   NaN          NaN      NaN    NaN   NaN    NaN   NaN   NaN   \n",
       "164        NaN   NaN          NaN      NaN    NaN   NaN    NaN   NaN   NaN   \n",
       "...        ...   ...          ...      ...    ...   ...    ...   ...   ...   \n",
       "6185       NaN   NaN          NaN      NaN    NaN   NaN    NaN   NaN   NaN   \n",
       "6222       NaN   NaN          NaN      NaN    NaN   NaN    NaN   NaN   NaN   \n",
       "6227       NaN   NaN          NaN      NaN    NaN   NaN    NaN   NaN   NaN   \n",
       "6236       NaN   NaN          NaN      NaN    NaN   NaN    NaN   NaN   NaN   \n",
       "6243       NaN   NaN          NaN      NaN    NaN   NaN    NaN   NaN   NaN   \n",
       "\n",
       "     region    category subcategory  \n",
       "19      NaN  nonfiction       agama  \n",
       "52      NaN  nonfiction       agama  \n",
       "102     NaN  nonfiction       agama  \n",
       "118     NaN  nonfiction       agama  \n",
       "164     NaN  nonfiction       agama  \n",
       "...     ...         ...         ...  \n",
       "6185    NaN     fiction      sastra  \n",
       "6222    NaN     fiction      sastra  \n",
       "6227    NaN     fiction      sastra  \n",
       "6236    NaN     fiction      sastra  \n",
       "6243    NaN     fiction      sastra  \n",
       "\n",
       "[80 rows x 16 columns]"
      ]
     },
     "execution_count": 11,
     "metadata": {},
     "output_type": "execute_result"
    }
   ],
   "source": [
    "df.loc[df[(df.price.isna())&(df.title.isna())].link.index]"
   ]
  },
  {
   "cell_type": "markdown",
   "id": "4322c032-bb3b-4112-ad4e-8506c511be2a",
   "metadata": {
    "tags": []
   },
   "source": [
    "We'll remove the data above since the values only appear in link, category, and subcategory columns"
   ]
  },
  {
   "cell_type": "code",
   "execution_count": 12,
   "id": "88e8c420-f136-4808-9285-add6b4b22755",
   "metadata": {
    "tags": []
   },
   "outputs": [],
   "source": [
    "df.drop(index=df.loc[df[(df.price.isna())&(df.title.isna())].link.index,:].index,inplace=True,errors='ignore')"
   ]
  },
  {
   "cell_type": "markdown",
   "id": "a47b7274-5ba7-4e5a-a2f7-041785d2aa40",
   "metadata": {},
   "source": [
    "Fill the price by checking the website manually"
   ]
  },
  {
   "cell_type": "markdown",
   "id": "8cc09b40-7298-4104-b993-23a27efc3ba5",
   "metadata": {},
   "source": [
    "If there are no information about the price, we can look that on other trusted websites."
   ]
  },
  {
   "cell_type": "code",
   "execution_count": 13,
   "id": "5bb49fde-3b88-4ab9-9f32-6e709e37d82a",
   "metadata": {},
   "outputs": [
    {
     "data": {
      "text/plain": [
       "475"
      ]
     },
     "execution_count": 13,
     "metadata": {},
     "output_type": "execute_result"
    }
   ],
   "source": [
    "df.price.isna().sum()"
   ]
  },
  {
   "cell_type": "markdown",
   "id": "ad45f5a8-da9e-42e3-ac1a-7ffdd5e68c8c",
   "metadata": {},
   "source": [
    "Since too many NaN values ( 475 ), we will only check 30 products randomly "
   ]
  },
  {
   "cell_type": "code",
   "execution_count": 14,
   "id": "4ebbc5be-161e-4d3f-bb86-72be7058dce8",
   "metadata": {},
   "outputs": [
    {
     "data": {
      "text/html": [
       "<div>\n",
       "<style scoped>\n",
       "    .dataframe tbody tr th:only-of-type {\n",
       "        vertical-align: middle;\n",
       "    }\n",
       "\n",
       "    .dataframe tbody tr th {\n",
       "        vertical-align: top;\n",
       "    }\n",
       "\n",
       "    .dataframe thead th {\n",
       "        text-align: right;\n",
       "    }\n",
       "</style>\n",
       "<table border=\"1\" class=\"dataframe\">\n",
       "  <thead>\n",
       "    <tr style=\"text-align: right;\">\n",
       "      <th></th>\n",
       "      <th>title</th>\n",
       "      <th>author</th>\n",
       "      <th>link</th>\n",
       "    </tr>\n",
       "  </thead>\n",
       "  <tbody>\n",
       "    <tr>\n",
       "      <th>1290</th>\n",
       "      <td>Mi Kl.Ii Al-Qur`An Hadis 2 Kur.Madrasah 2019</td>\n",
       "      <td>Abdul Fatah Yasin, M.Pd.I., Samsul Hadi, M.Pd.I &amp; Muttakin, M.Pd.I.</td>\n",
       "      <td>https://www.gramedia.com/products/mi-klii-al-quran-hadis-2-kurmadrasah-2019</td>\n",
       "    </tr>\n",
       "    <tr>\n",
       "      <th>3831</th>\n",
       "      <td>Freakonomics (New Edition)</td>\n",
       "      <td>Harper Collins</td>\n",
       "      <td>https://www.gramedia.com/products/freakonomics-new-edition</td>\n",
       "    </tr>\n",
       "    <tr>\n",
       "      <th>5824</th>\n",
       "      <td>Fanboy Attack</td>\n",
       "      <td>Incainica,</td>\n",
       "      <td>https://www.gramedia.com/products/fanboy-attack</td>\n",
       "    </tr>\n",
       "    <tr>\n",
       "      <th>5164</th>\n",
       "      <td>Doraemon Movie Story: Nobita dan Museum Peralatan Ajaib</td>\n",
       "      <td>Fujiko F. Fujio</td>\n",
       "      <td>https://www.gramedia.com/products/doraemon-movie-story-nobita-dan-museum-peralatan-ajaib</td>\n",
       "    </tr>\n",
       "    <tr>\n",
       "      <th>5002</th>\n",
       "      <td>Sherlock, Lupin dan Aku 4 : Sobekan Peta Misterius - Cover Baru</td>\n",
       "      <td>Irene Adler</td>\n",
       "      <td>https://www.gramedia.com/products/sherlock-lupin-dan-aku-1-sobekan-peta-misterius-cover-baru</td>\n",
       "    </tr>\n",
       "    <tr>\n",
       "      <th>716</th>\n",
       "      <td>Renungan Pagi 2021 April</td>\n",
       "      <td>NaN</td>\n",
       "      <td>https://www.gramedia.com/products/renungan-pagi-2021-april</td>\n",
       "    </tr>\n",
       "    <tr>\n",
       "      <th>2406</th>\n",
       "      <td>Menanti Pelangi Di Balik Awan Kelabu Asmara Arini</td>\n",
       "      <td>Santi Konanjaya</td>\n",
       "      <td>https://www.gramedia.com/products/menanti-pelangi-di-balik-awan-kelabu-asrmara-arini</td>\n",
       "    </tr>\n",
       "    <tr>\n",
       "      <th>1222</th>\n",
       "      <td>Bk Penilaian Tematik (Bupetik) Jl.5F Kls.V/K13N</td>\n",
       "      <td>Tim Mitra Pendidikan</td>\n",
       "      <td>https://www.gramedia.com/products/bk-penilaian-tematik-bupetik-jl5f-klsvk13n</td>\n",
       "    </tr>\n",
       "    <tr>\n",
       "      <th>3596</th>\n",
       "      <td>Petunjuk Praktis Penelitian Ilmiah Edisi 5</td>\n",
       "      <td>PROF.DR.J.SUPRANTO &amp; PROF.DR.IR.H.NANDAN L.</td>\n",
       "      <td>https://www.gramedia.com/products/petunjuk-praktis-penelitian-ilmiah-edisi-5</td>\n",
       "    </tr>\n",
       "    <tr>\n",
       "      <th>4985</th>\n",
       "      <td>Geger Pacinan 1740 -1743: Persekutuan Tionghoa – Jawa Melawan VOC (Revisi)</td>\n",
       "      <td>Daradjadi Gondodiprojo</td>\n",
       "      <td>https://www.gramedia.com/products/geger-pacinan-1740-1743-persekutuan-tionghoa-jawa-melawan-voc-revisi</td>\n",
       "    </tr>\n",
       "    <tr>\n",
       "      <th>3455</th>\n",
       "      <td>Persona</td>\n",
       "      <td>Vidi Aldiano</td>\n",
       "      <td>https://www.gramedia.com/products/persona</td>\n",
       "    </tr>\n",
       "    <tr>\n",
       "      <th>3535</th>\n",
       "      <td>Aman Dari Resiko Dalam Pengadaan Barang/Jasa Pemerintah</td>\n",
       "      <td>Suswinarno Ak. MM</td>\n",
       "      <td>https://www.gramedia.com/products/aman-dari-resiko-dalam-pengadaan-barangjasa-pemerintah</td>\n",
       "    </tr>\n",
       "    <tr>\n",
       "      <th>4375</th>\n",
       "      <td>FS My Noona</td>\n",
       "      <td>Pratiwi Mayasari</td>\n",
       "      <td>https://www.gramedia.com/products/fs-my-noona</td>\n",
       "    </tr>\n",
       "    <tr>\n",
       "      <th>3221</th>\n",
       "      <td>Manajemen Lalu Lintas Penerbangan Sipil</td>\n",
       "      <td>Aminarno Budi Pradana</td>\n",
       "      <td>https://www.gramedia.com/products/manajemen-lalu-lintas-penerbangan-sipil</td>\n",
       "    </tr>\n",
       "    <tr>\n",
       "      <th>5039</th>\n",
       "      <td>Ceritakan Mimpi-Mimpimu (Tell Me Your Dreams)</td>\n",
       "      <td>Sidney Sheldon</td>\n",
       "      <td>https://www.gramedia.com/products/ceritakan-mimpi-mimpimu-tell-me-your-dreams</td>\n",
       "    </tr>\n",
       "    <tr>\n",
       "      <th>1906</th>\n",
       "      <td>Bk Penilaian Tematik (Bupetik) Jl.4I Kls.Iv/K13N</td>\n",
       "      <td>Tim Mitra Pendidikan</td>\n",
       "      <td>https://www.gramedia.com/products/bk-penilaian-tematik-bupetik-jl4i-klsivk13n</td>\n",
       "    </tr>\n",
       "    <tr>\n",
       "      <th>1000</th>\n",
       "      <td>SMP/MTs Kelas VII English In Context Kurikulum 2013 Edisi Revisi</td>\n",
       "      <td>Sri Andreani,</td>\n",
       "      <td>https://www.gramedia.com/products/smp-mts-kl-vii-english-in-context-kur-2013-ed-revisi</td>\n",
       "    </tr>\n",
       "    <tr>\n",
       "      <th>3567</th>\n",
       "      <td>Pengantar Teori Ekonomi Makro</td>\n",
       "      <td>Budiyono; Sukaris</td>\n",
       "      <td>https://www.gramedia.com/products/pengantar-teori-ekonomi-makro</td>\n",
       "    </tr>\n",
       "    <tr>\n",
       "      <th>299</th>\n",
       "      <td>Reposisi Perempuan &amp; Pengembangan Ptm/A Sebagai Pusat Unggul</td>\n",
       "      <td>PROF. DR. ABD. MUNIR MULKHAN, S.U</td>\n",
       "      <td>https://www.gramedia.com/products/reposisi-perempuan-pengembangan-ptma-sebagai-pusat-unggul</td>\n",
       "    </tr>\n",
       "    <tr>\n",
       "      <th>6082</th>\n",
       "      <td>Aruna dan Lidahnya (Sebuah Novel)</td>\n",
       "      <td>Laksmi Pamuntjak</td>\n",
       "      <td>https://www.gramedia.com/products/conf-aruna-dan-lidahnya-sebuah-novel</td>\n",
       "    </tr>\n",
       "    <tr>\n",
       "      <th>5796</th>\n",
       "      <td>Jalan Keempat</td>\n",
       "      <td>M Faizi</td>\n",
       "      <td>https://www.gramedia.com/products/jalan-keempat</td>\n",
       "    </tr>\n",
       "    <tr>\n",
       "      <th>3261</th>\n",
       "      <td>Ekonomi Makro Islam Pendekatan Teoretis</td>\n",
       "      <td>Nurul Huda,</td>\n",
       "      <td>https://www.gramedia.com/products/ekonomi-makro-islam-pendekatan-teoretis</td>\n",
       "    </tr>\n",
       "    <tr>\n",
       "      <th>3424</th>\n",
       "      <td>Tax Amnesty di Indonesia</td>\n",
       "      <td>Marihot Pahala Siahaan,</td>\n",
       "      <td>https://www.gramedia.com/products/tax-anesty-di-indonesia</td>\n",
       "    </tr>\n",
       "    <tr>\n",
       "      <th>4016</th>\n",
       "      <td>Fs Hr: The Matchmaker`s Match</td>\n",
       "      <td>NaN</td>\n",
       "      <td>https://www.gramedia.com/products/fs-hr-the-matchmakers-match</td>\n",
       "    </tr>\n",
       "    <tr>\n",
       "      <th>4987</th>\n",
       "      <td>TeenLit: Let Go</td>\n",
       "      <td>Windhy Puspitadewi</td>\n",
       "      <td>https://www.gramedia.com/products/teenlit-let-go</td>\n",
       "    </tr>\n",
       "    <tr>\n",
       "      <th>5003</th>\n",
       "      <td>166 Makhluk Khayalan Paling Misterius Di Dunia</td>\n",
       "      <td>Evfi Zamidra</td>\n",
       "      <td>https://www.gramedia.com/products/166-makhluk-khayalan-paling-misterius-di-dunia</td>\n",
       "    </tr>\n",
       "    <tr>\n",
       "      <th>6</th>\n",
       "      <td>Renungan Harian Spirit Motivator Edisi Mei 2021</td>\n",
       "      <td>Tim Spirit</td>\n",
       "      <td>https://www.gramedia.com/products/renungan-harian-spirit-motivator-edisi-mei-2021</td>\n",
       "    </tr>\n",
       "    <tr>\n",
       "      <th>4744</th>\n",
       "      <td>FS Blood Assassin</td>\n",
       "      <td>Alexandra Ivy</td>\n",
       "      <td>https://www.gramedia.com/products/fs-blood-assassin</td>\n",
       "    </tr>\n",
       "    <tr>\n",
       "      <th>3445</th>\n",
       "      <td>Konflik dan Kerja Sama Di Kutub Utara Dalam Perspektif Indonesia</td>\n",
       "      <td>Evi Fitriani</td>\n",
       "      <td>https://www.gramedia.com/products/konflik-kerja-sama-di-kutub-utara-dalam-perspektif-indonesia</td>\n",
       "    </tr>\n",
       "    <tr>\n",
       "      <th>2561</th>\n",
       "      <td>Peyempuan Strong</td>\n",
       "      <td>@peyemp</td>\n",
       "      <td>https://www.gramedia.com/products/peyempuan-strong</td>\n",
       "    </tr>\n",
       "  </tbody>\n",
       "</table>\n",
       "</div>"
      ],
      "text/plain": [
       "                                                                           title  \\\n",
       "1290  Mi Kl.Ii Al-Qur`An Hadis 2 Kur.Madrasah 2019                                 \n",
       "3831  Freakonomics (New Edition)                                                   \n",
       "5824  Fanboy Attack                                                                \n",
       "5164  Doraemon Movie Story: Nobita dan Museum Peralatan Ajaib                      \n",
       "5002  Sherlock, Lupin dan Aku 4 : Sobekan Peta Misterius - Cover Baru              \n",
       "716   Renungan Pagi 2021 April                                                     \n",
       "2406  Menanti Pelangi Di Balik Awan Kelabu Asmara Arini                            \n",
       "1222  Bk Penilaian Tematik (Bupetik) Jl.5F Kls.V/K13N                              \n",
       "3596  Petunjuk Praktis Penelitian Ilmiah Edisi 5                                   \n",
       "4985  Geger Pacinan 1740 -1743: Persekutuan Tionghoa – Jawa Melawan VOC (Revisi)   \n",
       "3455  Persona                                                                      \n",
       "3535  Aman Dari Resiko Dalam Pengadaan Barang/Jasa Pemerintah                      \n",
       "4375  FS My Noona                                                                  \n",
       "3221  Manajemen Lalu Lintas Penerbangan Sipil                                      \n",
       "5039  Ceritakan Mimpi-Mimpimu (Tell Me Your Dreams)                                \n",
       "1906  Bk Penilaian Tematik (Bupetik) Jl.4I Kls.Iv/K13N                             \n",
       "1000  SMP/MTs Kelas VII English In Context Kurikulum 2013 Edisi Revisi             \n",
       "3567  Pengantar Teori Ekonomi Makro                                                \n",
       "299   Reposisi Perempuan & Pengembangan Ptm/A Sebagai Pusat Unggul                 \n",
       "6082  Aruna dan Lidahnya (Sebuah Novel)                                            \n",
       "5796  Jalan Keempat                                                                \n",
       "3261  Ekonomi Makro Islam Pendekatan Teoretis                                      \n",
       "3424  Tax Amnesty di Indonesia                                                     \n",
       "4016  Fs Hr: The Matchmaker`s Match                                                \n",
       "4987  TeenLit: Let Go                                                              \n",
       "5003  166 Makhluk Khayalan Paling Misterius Di Dunia                               \n",
       "6     Renungan Harian Spirit Motivator Edisi Mei 2021                              \n",
       "4744  FS Blood Assassin                                                            \n",
       "3445  Konflik dan Kerja Sama Di Kutub Utara Dalam Perspektif Indonesia             \n",
       "2561  Peyempuan Strong                                                             \n",
       "\n",
       "                                                                   author  \\\n",
       "1290  Abdul Fatah Yasin, M.Pd.I., Samsul Hadi, M.Pd.I & Muttakin, M.Pd.I.   \n",
       "3831  Harper Collins                                                        \n",
       "5824  Incainica,                                                            \n",
       "5164  Fujiko F. Fujio                                                       \n",
       "5002  Irene Adler                                                           \n",
       "716   NaN                                                                   \n",
       "2406  Santi Konanjaya                                                       \n",
       "1222  Tim Mitra Pendidikan                                                  \n",
       "3596  PROF.DR.J.SUPRANTO & PROF.DR.IR.H.NANDAN L.                           \n",
       "4985  Daradjadi Gondodiprojo                                                \n",
       "3455  Vidi Aldiano                                                          \n",
       "3535  Suswinarno Ak. MM                                                     \n",
       "4375  Pratiwi Mayasari                                                      \n",
       "3221  Aminarno Budi Pradana                                                 \n",
       "5039  Sidney Sheldon                                                        \n",
       "1906  Tim Mitra Pendidikan                                                  \n",
       "1000  Sri Andreani,                                                         \n",
       "3567  Budiyono; Sukaris                                                     \n",
       "299   PROF. DR. ABD. MUNIR MULKHAN, S.U                                     \n",
       "6082  Laksmi Pamuntjak                                                      \n",
       "5796  M Faizi                                                               \n",
       "3261  Nurul Huda,                                                           \n",
       "3424  Marihot Pahala Siahaan,                                               \n",
       "4016  NaN                                                                   \n",
       "4987  Windhy Puspitadewi                                                    \n",
       "5003  Evfi Zamidra                                                          \n",
       "6     Tim Spirit                                                            \n",
       "4744  Alexandra Ivy                                                         \n",
       "3445  Evi Fitriani                                                          \n",
       "2561  @peyemp                                                               \n",
       "\n",
       "                                                                                                        link  \n",
       "1290  https://www.gramedia.com/products/mi-klii-al-quran-hadis-2-kurmadrasah-2019                             \n",
       "3831  https://www.gramedia.com/products/freakonomics-new-edition                                              \n",
       "5824  https://www.gramedia.com/products/fanboy-attack                                                         \n",
       "5164  https://www.gramedia.com/products/doraemon-movie-story-nobita-dan-museum-peralatan-ajaib                \n",
       "5002  https://www.gramedia.com/products/sherlock-lupin-dan-aku-1-sobekan-peta-misterius-cover-baru            \n",
       "716   https://www.gramedia.com/products/renungan-pagi-2021-april                                              \n",
       "2406  https://www.gramedia.com/products/menanti-pelangi-di-balik-awan-kelabu-asrmara-arini                    \n",
       "1222  https://www.gramedia.com/products/bk-penilaian-tematik-bupetik-jl5f-klsvk13n                            \n",
       "3596  https://www.gramedia.com/products/petunjuk-praktis-penelitian-ilmiah-edisi-5                            \n",
       "4985  https://www.gramedia.com/products/geger-pacinan-1740-1743-persekutuan-tionghoa-jawa-melawan-voc-revisi  \n",
       "3455  https://www.gramedia.com/products/persona                                                               \n",
       "3535  https://www.gramedia.com/products/aman-dari-resiko-dalam-pengadaan-barangjasa-pemerintah                \n",
       "4375  https://www.gramedia.com/products/fs-my-noona                                                           \n",
       "3221  https://www.gramedia.com/products/manajemen-lalu-lintas-penerbangan-sipil                               \n",
       "5039  https://www.gramedia.com/products/ceritakan-mimpi-mimpimu-tell-me-your-dreams                           \n",
       "1906  https://www.gramedia.com/products/bk-penilaian-tematik-bupetik-jl4i-klsivk13n                           \n",
       "1000  https://www.gramedia.com/products/smp-mts-kl-vii-english-in-context-kur-2013-ed-revisi                  \n",
       "3567  https://www.gramedia.com/products/pengantar-teori-ekonomi-makro                                         \n",
       "299   https://www.gramedia.com/products/reposisi-perempuan-pengembangan-ptma-sebagai-pusat-unggul             \n",
       "6082  https://www.gramedia.com/products/conf-aruna-dan-lidahnya-sebuah-novel                                  \n",
       "5796  https://www.gramedia.com/products/jalan-keempat                                                         \n",
       "3261  https://www.gramedia.com/products/ekonomi-makro-islam-pendekatan-teoretis                               \n",
       "3424  https://www.gramedia.com/products/tax-anesty-di-indonesia                                               \n",
       "4016  https://www.gramedia.com/products/fs-hr-the-matchmakers-match                                           \n",
       "4987  https://www.gramedia.com/products/teenlit-let-go                                                        \n",
       "5003  https://www.gramedia.com/products/166-makhluk-khayalan-paling-misterius-di-dunia                        \n",
       "6     https://www.gramedia.com/products/renungan-harian-spirit-motivator-edisi-mei-2021                       \n",
       "4744  https://www.gramedia.com/products/fs-blood-assassin                                                     \n",
       "3445  https://www.gramedia.com/products/konflik-kerja-sama-di-kutub-utara-dalam-perspektif-indonesia          \n",
       "2561  https://www.gramedia.com/products/peyempuan-strong                                                      "
      ]
     },
     "execution_count": 14,
     "metadata": {},
     "output_type": "execute_result"
    }
   ],
   "source": [
    "import random\n",
    "pd.set_option('display.max_colwidth',2)\n",
    "random.seed(1)\n",
    "idx = random.sample(df.loc[df[df.price.isna()].index].index.tolist(),30)\n",
    "df.loc[idx,['title','author','link']]"
   ]
  },
  {
   "cell_type": "markdown",
   "id": "b35863b4-a5d2-490a-bd68-d8867b1b5260",
   "metadata": {},
   "source": [
    "Besides the price, I will also fill in the **other columns** that have missing values as well, since the information often **appears together**. Here is the function for that :"
   ]
  },
  {
   "cell_type": "code",
   "execution_count": 15,
   "id": "b90d6771-b471-47c4-91b7-291730c9ad43",
   "metadata": {},
   "outputs": [],
   "source": [
    "def price_na(data,index,cover,price,store,region):\n",
    "    data.loc[idx[index],'cover'] = cover\n",
    "    data.loc[idx[index],'price'] = price\n",
    "    data.loc[idx[index],'store'] = store\n",
    "    data.loc[idx[index],'region'] = region"
   ]
  },
  {
   "cell_type": "code",
   "execution_count": 16,
   "id": "bd46d48b-51f7-4256-832e-e071405d76ef",
   "metadata": {},
   "outputs": [],
   "source": [
    "price_na(df,0,'Soft Cover','Rp 97.000','Gramedia Harapan Indah','Bekasi')\n",
    "price_na(df,1,'Soft Cover','Rp 70.000','Gramedia Mega Bekasi Hypermall','Kota Bekasi')\n",
    "price_na(df,2,'Soft Cover','Rp 70.000',np.nan,np.nan)\n",
    "price_na(df,3,'Soft Cover','Rp 36.000',np.nan,np.nan)\n",
    "price_na(df,4,'Soft Cover','Rp 56.000','Gramedia Mega Bekasi Hypermall','Kota Bekasi')\n",
    "price_na(df,5,'Soft Cover','Rp 53.000',np.nan,np.nan)\n",
    "price_na(df,6,'Soft Cover','Rp 83.000',np.nan,np.nan)\n",
    "price_na(df,7,'Soft Cover','Rp 49.000',np.nan,np.nan)\n",
    "price_na(df,8,'Soft Cover','Rp 24.500',np.nan,np.nan)\n",
    "price_na(df,9,'Soft Cover','Rp 56.000','Gramedia Mega Bekasi Hypermall','Kota Bekasi')\n",
    "price_na(df,10,'Soft Cover','Rp 99.000','Gramedia Teraskota','Tangerang Selatan')\n",
    "price_na(df,11,'Soft Cover','Rp 88.000','Gramedia Melawai','Jakarta Selatan')\n",
    "price_na(df,12,'Soft Cover','Rp 56.000',np.nan,np.nan)\n",
    "price_na(df,13,'Soft Cover','Rp 89.000',np.nan,np.nan)\n",
    "price_na(df,14,'Soft Cover','Rp 32.000',np.nan,'Jakarta Selatan')\n",
    "price_na(df,15,'Soft Cover','Rp 82.000',np.nan,np.nan)\n",
    "price_na(df,16,'Soft Cover','Rp 91.000','Gramedia Cijantung','Jakarta Timur')\n",
    "price_na(df,17,'Soft Cover','Rp 30.000',np.nan,np.nan)\n",
    "price_na(df,18,'Soft Cover','Rp 58.900',np.nan,np.nan)\n",
    "price_na(df,19,'Soft Cover','Rp 59.000',np.nan,np.nan)\n",
    "price_na(df,20,'Soft Cover','Rp 50.000',np.nan,np.nan)\n",
    "price_na(df,21,'Soft Cover','Rp 60.000','Gramedia Grand Indonesia','Jakarta Pusat')\n",
    "price_na(df,22,'Soft Cover','Rp 62.000',np.nan,np.nan)\n",
    "price_na(df,23,'Soft Cover','Rp 39.000',np.nan,np.nan)\n",
    "price_na(df,24,'Soft Cover','Rp 57.000',np.nan,np.nan)\n",
    "price_na(df,25,'Soft Cover','Rp 31.500',np.nan,np.nan)\n",
    "price_na(df,26,'Soft Cover','Rp 9.000',np.nan,np.nan)\n",
    "price_na(df,27,'Soft Cover','Rp 176.743',np.nan,np.nan)\n",
    "price_na(df,28,'Soft Cover','Rp 85.000',np.nan,np.nan)\n",
    "price_na(df,29,'Soft Cover','Rp 55.000',np.nan,np.nan)"
   ]
  },
  {
   "cell_type": "code",
   "execution_count": 17,
   "id": "e83e2357-2c48-43aa-ba43-eeaaea01464a",
   "metadata": {},
   "outputs": [],
   "source": [
    "df.loc[3,['cover','price','store','region']] = ['Soft Cover','Rp 56.000','Gramedia Karawang','Karawang']\n",
    "df.loc[59,['cover','price','store','region']] = ['Soft Cover','Rp 44.800','Gramedia Mega Bekasi Hypermall','Kota Bekasi']"
   ]
  },
  {
   "cell_type": "markdown",
   "id": "54449943-033d-405f-a943-3f9ca017cd95",
   "metadata": {
    "tags": []
   },
   "source": [
    "### Language"
   ]
  },
  {
   "cell_type": "code",
   "execution_count": 18,
   "id": "fd0f109c-557e-4097-85db-811f09c34091",
   "metadata": {},
   "outputs": [
    {
     "data": {
      "text/plain": [
       "Indonesia    5918\n",
       "eng          76  \n",
       "English      56  \n",
       "20.0cm       34  \n",
       "ind          28  \n",
       "21.0cm       23  \n",
       "18.0cm       11  \n",
       "23.0cm       11  \n",
       "0.0cm        8   \n",
       "24.0cm       5   \n",
       "19.0cm       5   \n",
       "20cm         5   \n",
       "19cm         3   \n",
       "1cm          2   \n",
       "11.0cm       2   \n",
       "19.5cm       2   \n",
       "21cm         2   \n",
       "14.0cm       2   \n",
       "18cm         2   \n",
       "Bilingual    1   \n",
       "20.5cm       1   \n",
       "14.5cm       1   \n",
       "indonesia    1   \n",
       "20.3cm       1   \n",
       "23cm         1   \n",
       "0cm          1   \n",
       "15.0cm       1   \n",
       "17.5cm       1   \n",
       "28.0cm       1   \n",
       "13.5cm       1   \n",
       "17.0cm       1   \n",
       "Name: language, dtype: int64"
      ]
     },
     "execution_count": 18,
     "metadata": {},
     "output_type": "execute_result"
    }
   ],
   "source": [
    "df.language.value_counts()"
   ]
  },
  {
   "cell_type": "markdown",
   "id": "554d3ab2-1d92-4c9c-905e-f8b1dad7a5a4",
   "metadata": {},
   "source": [
    "**Indonesia** is the most language here. But, we only take Indonesian and English from this variable and we will handle them later"
   ]
  },
  {
   "cell_type": "code",
   "execution_count": 19,
   "id": "0e7ab172-6f8a-4e2b-99f8-0039fe0158dc",
   "metadata": {},
   "outputs": [
    {
     "data": {
      "text/html": [
       "<div>\n",
       "<style scoped>\n",
       "    .dataframe tbody tr th:only-of-type {\n",
       "        vertical-align: middle;\n",
       "    }\n",
       "\n",
       "    .dataframe tbody tr th {\n",
       "        vertical-align: top;\n",
       "    }\n",
       "\n",
       "    .dataframe thead th {\n",
       "        text-align: right;\n",
       "    }\n",
       "</style>\n",
       "<table border=\"1\" class=\"dataframe\">\n",
       "  <thead>\n",
       "    <tr style=\"text-align: right;\">\n",
       "      <th></th>\n",
       "      <th>link</th>\n",
       "      <th>author</th>\n",
       "      <th>title</th>\n",
       "      <th>cover</th>\n",
       "      <th>publisher</th>\n",
       "      <th>pages</th>\n",
       "      <th>publish_date</th>\n",
       "      <th>language</th>\n",
       "      <th>weight</th>\n",
       "      <th>width</th>\n",
       "      <th>length</th>\n",
       "      <th>price</th>\n",
       "      <th>store</th>\n",
       "      <th>region</th>\n",
       "      <th>category</th>\n",
       "      <th>subcategory</th>\n",
       "    </tr>\n",
       "  </thead>\n",
       "  <tbody>\n",
       "    <tr>\n",
       "      <th>2406</th>\n",
       "      <td>https://www.gramedia.com/products/menanti-pelangi-di-balik-awan-kelabu-asrmara-arini</td>\n",
       "      <td>Santi Konanjaya</td>\n",
       "      <td>Menanti Pelangi Di Balik Awan Kelabu Asmara Arini</td>\n",
       "      <td>Soft Cover</td>\n",
       "      <td>Andi Offset</td>\n",
       "      <td>276</td>\n",
       "      <td>27 Nov 2015</td>\n",
       "      <td>NaN</td>\n",
       "      <td>0.3000 kg</td>\n",
       "      <td>20 cm</td>\n",
       "      <td>NaN</td>\n",
       "      <td>Rp 83.000</td>\n",
       "      <td>NaN</td>\n",
       "      <td>NaN</td>\n",
       "      <td>nonfiction</td>\n",
       "      <td>self_development</td>\n",
       "    </tr>\n",
       "    <tr>\n",
       "      <th>5674</th>\n",
       "      <td>https://www.gramedia.com/products/conf-love-is-blind</td>\n",
       "      <td>Lynsay Sands</td>\n",
       "      <td>Love is Blind</td>\n",
       "      <td>NaN</td>\n",
       "      <td>Harper Collins</td>\n",
       "      <td>Harper Collins</td>\n",
       "      <td>14 Jan 2015</td>\n",
       "      <td>NaN</td>\n",
       "      <td>0.4000 kg</td>\n",
       "      <td>NaN</td>\n",
       "      <td>NaN</td>\n",
       "      <td>NaN</td>\n",
       "      <td>NaN</td>\n",
       "      <td>NaN</td>\n",
       "      <td>fiction</td>\n",
       "      <td>sastra</td>\n",
       "    </tr>\n",
       "  </tbody>\n",
       "</table>\n",
       "</div>"
      ],
      "text/plain": [
       "                                                                                      link  \\\n",
       "2406  https://www.gramedia.com/products/menanti-pelangi-di-balik-awan-kelabu-asrmara-arini   \n",
       "5674  https://www.gramedia.com/products/conf-love-is-blind                                   \n",
       "\n",
       "               author                                              title  \\\n",
       "2406  Santi Konanjaya  Menanti Pelangi Di Balik Awan Kelabu Asmara Arini   \n",
       "5674  Lynsay Sands     Love is Blind                                       \n",
       "\n",
       "           cover       publisher           pages publish_date language  \\\n",
       "2406  Soft Cover  Andi Offset     276             27 Nov 2015  NaN       \n",
       "5674  NaN         Harper Collins  Harper Collins  14 Jan 2015  NaN       \n",
       "\n",
       "         weight  width length      price store region    category  \\\n",
       "2406  0.3000 kg  20 cm  NaN    Rp 83.000  NaN   NaN    nonfiction   \n",
       "5674  0.4000 kg  NaN    NaN    NaN        NaN   NaN    fiction      \n",
       "\n",
       "           subcategory  \n",
       "2406  self_development  \n",
       "5674  sastra            "
      ]
     },
     "execution_count": 19,
     "metadata": {},
     "output_type": "execute_result"
    }
   ],
   "source": [
    "df.loc[df[df.language.isna()].index]"
   ]
  },
  {
   "cell_type": "code",
   "execution_count": 20,
   "id": "53e6486f-5477-4e57-a517-c22ea17f0e0c",
   "metadata": {},
   "outputs": [],
   "source": [
    "df.loc[2406,'language'] = 'Indonesia'\n",
    "df.loc[5674,'language'] = 'English'"
   ]
  },
  {
   "cell_type": "markdown",
   "id": "c896b64b-b7c9-4e84-8204-1ff766c4cffc",
   "metadata": {
    "tags": []
   },
   "source": [
    "### Region"
   ]
  },
  {
   "cell_type": "code",
   "execution_count": 21,
   "id": "4dda1c77-1f97-4189-825a-08c167457206",
   "metadata": {},
   "outputs": [
    {
     "data": {
      "text/plain": [
       "Matraman          154\n",
       "Gramedia Kawah    10 \n",
       "Gramedia          10 \n",
       "Name: store, dtype: int64"
      ]
     },
     "execution_count": 21,
     "metadata": {},
     "output_type": "execute_result"
    }
   ],
   "source": [
    "df[df.region.isna()].store.value_counts()"
   ]
  },
  {
   "cell_type": "markdown",
   "id": "2012d81f-83d3-484c-a21d-fd48b0d888bb",
   "metadata": {},
   "source": [
    "- **Matraman** located in **Jakarta Timur**\n",
    "- **Gramedia Kawah** located in **Jakarta Selatan**\n",
    "- only **'Gramedia'**, based on the other data, located in **Jakarta Timur**"
   ]
  },
  {
   "cell_type": "code",
   "execution_count": 22,
   "id": "484b3c5d-ced7-4fd9-b1c2-841c6aca5406",
   "metadata": {},
   "outputs": [],
   "source": [
    "df.loc[df[df.store=='Matraman'].index,'region'] = 'Jakarta Timur'\n",
    "df.loc[df[df.store=='Gramedia Kawah'].index,'region'] = 'Jakarta Selatan'\n",
    "df.loc[df[df.store=='Gramedia'].index,'region'] = 'Jakarta Timur'"
   ]
  },
  {
   "cell_type": "markdown",
   "id": "6f8d6a60-ed2a-4713-950c-2af33fdecf38",
   "metadata": {
    "tags": []
   },
   "source": [
    "### Weight, width, and length"
   ]
  },
  {
   "cell_type": "code",
   "execution_count": 23,
   "id": "1498492d-ea32-4a1f-91d9-95fb32b704e4",
   "metadata": {},
   "outputs": [
    {
     "data": {
      "text/plain": [
       "weight    24 \n",
       "width     104\n",
       "length    246\n",
       "dtype: int64"
      ]
     },
     "execution_count": 23,
     "metadata": {},
     "output_type": "execute_result"
    }
   ],
   "source": [
    "df.isna().sum()[['weight','width','length']]"
   ]
  },
  {
   "cell_type": "markdown",
   "id": "fa1d10ed-446a-4801-8e66-3a36d2b13860",
   "metadata": {},
   "source": [
    "All of the missing values in \"weight\" column are E-book. Thus, I'm gonna fill the length, width, and weight with zero"
   ]
  },
  {
   "cell_type": "code",
   "execution_count": 24,
   "id": "77876fbf-2bff-42f9-b8f8-2ed4bec9c9db",
   "metadata": {},
   "outputs": [],
   "source": [
    "df.loc[df[df.cover=='EBook'].index,'length'] = 0\n",
    "df.loc[df[df.cover=='EBook'].index,'width']  = 0\n",
    "df.loc[df[df.cover=='EBook'].index,'weight'] = 0"
   ]
  },
  {
   "cell_type": "code",
   "execution_count": 25,
   "id": "20dfacca-9cea-4c85-a574-aa4a70ab3e04",
   "metadata": {},
   "outputs": [
    {
     "data": {
      "text/plain": [
       "weight    0  \n",
       "width     10 \n",
       "length    152\n",
       "dtype: int64"
      ]
     },
     "execution_count": 25,
     "metadata": {},
     "output_type": "execute_result"
    }
   ],
   "source": [
    "df.isna().sum()[['weight','width','length']]"
   ]
  },
  {
   "cell_type": "markdown",
   "id": "f88c54b3-1dbc-4a6a-84be-073cc72efbfb",
   "metadata": {},
   "source": [
    "Since the length columns still have lots of NaN values. **I would only check the width manually**. For length, I'm gonna handle it with basic statistical method, either median or mean ( we'll see later )."
   ]
  },
  {
   "cell_type": "markdown",
   "id": "f375a4d0-67c0-44ab-9268-0ecbbd3813e6",
   "metadata": {},
   "source": [
    "After checking their official website, there are no information about width and length. Instead, I found the values from **Shopee, Bukalapak, Tokopedia, and Amazon** sites ( like the price before )."
   ]
  },
  {
   "cell_type": "code",
   "execution_count": 26,
   "id": "0a769a91-b03f-4fd3-be3e-9968ab568bae",
   "metadata": {},
   "outputs": [],
   "source": [
    "df1 = df.copy()\n",
    "idx1 = df1[df1.width.isna()].index.tolist()"
   ]
  },
  {
   "cell_type": "code",
   "execution_count": 27,
   "id": "b866851a-3a89-4954-b10d-5492f0e8bc1f",
   "metadata": {},
   "outputs": [
    {
     "data": {
      "text/html": [
       "<div>\n",
       "<style scoped>\n",
       "    .dataframe tbody tr th:only-of-type {\n",
       "        vertical-align: middle;\n",
       "    }\n",
       "\n",
       "    .dataframe tbody tr th {\n",
       "        vertical-align: top;\n",
       "    }\n",
       "\n",
       "    .dataframe thead th {\n",
       "        text-align: right;\n",
       "    }\n",
       "</style>\n",
       "<table border=\"1\" class=\"dataframe\">\n",
       "  <thead>\n",
       "    <tr style=\"text-align: right;\">\n",
       "      <th></th>\n",
       "      <th>link</th>\n",
       "      <th>author</th>\n",
       "      <th>title</th>\n",
       "      <th>cover</th>\n",
       "      <th>publisher</th>\n",
       "      <th>pages</th>\n",
       "      <th>publish_date</th>\n",
       "      <th>language</th>\n",
       "      <th>weight</th>\n",
       "      <th>width</th>\n",
       "      <th>length</th>\n",
       "      <th>price</th>\n",
       "      <th>store</th>\n",
       "      <th>region</th>\n",
       "      <th>category</th>\n",
       "      <th>subcategory</th>\n",
       "    </tr>\n",
       "  </thead>\n",
       "  <tbody>\n",
       "    <tr>\n",
       "      <th>2972</th>\n",
       "      <td>https://www.gramedia.com/products/freeport-kembali-ke-pangkuan-ibu-pertiwi</td>\n",
       "      <td>Fahmy Radhi</td>\n",
       "      <td>Freeport Kembali Ke Pangkuan Ibu Pertiwi</td>\n",
       "      <td>NaN</td>\n",
       "      <td>Balai Pustaka</td>\n",
       "      <td>None</td>\n",
       "      <td>1 Mei 2019</td>\n",
       "      <td>Indonesia</td>\n",
       "      <td>0.358 kg</td>\n",
       "      <td>NaN</td>\n",
       "      <td>NaN</td>\n",
       "      <td>NaN</td>\n",
       "      <td>NaN</td>\n",
       "      <td>NaN</td>\n",
       "      <td>nonfiction</td>\n",
       "      <td>bisnis</td>\n",
       "    </tr>\n",
       "    <tr>\n",
       "      <th>3141</th>\n",
       "      <td>https://www.gramedia.com/products/manajemen-pendidikan-tinggi-1</td>\n",
       "      <td>Prof. Dr. H. Mahmud, M.Si.</td>\n",
       "      <td>Manajemen Pendidikan Tinggi</td>\n",
       "      <td>Soft Cover</td>\n",
       "      <td>Remaja Rosdakarya</td>\n",
       "      <td>320</td>\n",
       "      <td>1 Feb 2019</td>\n",
       "      <td>Indonesia</td>\n",
       "      <td>0.444 kg</td>\n",
       "      <td>NaN</td>\n",
       "      <td>NaN</td>\n",
       "      <td>Rp 83.000</td>\n",
       "      <td>Gramedia Bandung Merdeka</td>\n",
       "      <td>Kota Bandung</td>\n",
       "      <td>nonfiction</td>\n",
       "      <td>bisnis</td>\n",
       "    </tr>\n",
       "    <tr>\n",
       "      <th>3262</th>\n",
       "      <td>https://www.gramedia.com/products/laris-manis-bisnis-wisata-halal</td>\n",
       "      <td>Cheriatna</td>\n",
       "      <td>Laris Manis Bisnis Wisata Halal</td>\n",
       "      <td>NaN</td>\n",
       "      <td>Gema Insani</td>\n",
       "      <td>168</td>\n",
       "      <td>13 Mar 2019</td>\n",
       "      <td>Indonesia</td>\n",
       "      <td>0.230 kg</td>\n",
       "      <td>NaN</td>\n",
       "      <td>NaN</td>\n",
       "      <td>NaN</td>\n",
       "      <td>NaN</td>\n",
       "      <td>NaN</td>\n",
       "      <td>nonfiction</td>\n",
       "      <td>bisnis</td>\n",
       "    </tr>\n",
       "    <tr>\n",
       "      <th>3796</th>\n",
       "      <td>https://www.gramedia.com/products/bermain-tts-bersama-bts</td>\n",
       "      <td>BTS FAKTA ID</td>\n",
       "      <td>Bermain TTS Bersama BTS</td>\n",
       "      <td>Soft Cover</td>\n",
       "      <td>Rainbow Books</td>\n",
       "      <td>None</td>\n",
       "      <td>7 Feb 2019</td>\n",
       "      <td>Indonesia</td>\n",
       "      <td>0.2 kg</td>\n",
       "      <td>NaN</td>\n",
       "      <td>NaN</td>\n",
       "      <td>Rp 65.000</td>\n",
       "      <td>Gramedia Daan Mogot</td>\n",
       "      <td>Jakarta Barat</td>\n",
       "      <td>nonfiction</td>\n",
       "      <td>bisnis</td>\n",
       "    </tr>\n",
       "    <tr>\n",
       "      <th>5674</th>\n",
       "      <td>https://www.gramedia.com/products/conf-love-is-blind</td>\n",
       "      <td>Lynsay Sands</td>\n",
       "      <td>Love is Blind</td>\n",
       "      <td>NaN</td>\n",
       "      <td>Harper Collins</td>\n",
       "      <td>Harper Collins</td>\n",
       "      <td>14 Jan 2015</td>\n",
       "      <td>English</td>\n",
       "      <td>0.4000 kg</td>\n",
       "      <td>NaN</td>\n",
       "      <td>NaN</td>\n",
       "      <td>NaN</td>\n",
       "      <td>NaN</td>\n",
       "      <td>NaN</td>\n",
       "      <td>fiction</td>\n",
       "      <td>sastra</td>\n",
       "    </tr>\n",
       "    <tr>\n",
       "      <th>5885</th>\n",
       "      <td>https://www.gramedia.com/products/kisah-1001-malam-5</td>\n",
       "      <td>Alfu Lailah Wa Lailah</td>\n",
       "      <td>Kisah 1001 Malam 5</td>\n",
       "      <td>NaN</td>\n",
       "      <td>Divapress</td>\n",
       "      <td>588</td>\n",
       "      <td>25 Mar 2019</td>\n",
       "      <td>Indonesia</td>\n",
       "      <td>0.661 kg</td>\n",
       "      <td>NaN</td>\n",
       "      <td>NaN</td>\n",
       "      <td>NaN</td>\n",
       "      <td>NaN</td>\n",
       "      <td>NaN</td>\n",
       "      <td>fiction</td>\n",
       "      <td>sastra</td>\n",
       "    </tr>\n",
       "    <tr>\n",
       "      <th>6074</th>\n",
       "      <td>https://www.gramedia.com/products/dear-imanku</td>\n",
       "      <td>Mellyana</td>\n",
       "      <td>Dear, Imanku</td>\n",
       "      <td>Soft Cover</td>\n",
       "      <td>Coconut Books</td>\n",
       "      <td>302</td>\n",
       "      <td>15 Jul 2018</td>\n",
       "      <td>Indonesia</td>\n",
       "      <td>0.2 kg</td>\n",
       "      <td>NaN</td>\n",
       "      <td>NaN</td>\n",
       "      <td>Rp 79.000</td>\n",
       "      <td>Gramedia Garut</td>\n",
       "      <td>Garut</td>\n",
       "      <td>fiction</td>\n",
       "      <td>sastra</td>\n",
       "    </tr>\n",
       "    <tr>\n",
       "      <th>6085</th>\n",
       "      <td>https://www.gramedia.com/products/paradigma</td>\n",
       "      <td>Syahid Muhammad</td>\n",
       "      <td>Paradigma</td>\n",
       "      <td>Soft Cover</td>\n",
       "      <td>Gradien Mediatama</td>\n",
       "      <td>316</td>\n",
       "      <td>10 Sep 2018</td>\n",
       "      <td>Indonesia</td>\n",
       "      <td>0.3 kg</td>\n",
       "      <td>NaN</td>\n",
       "      <td>NaN</td>\n",
       "      <td>Rp 77.000</td>\n",
       "      <td>Gramedia Botani Bogor</td>\n",
       "      <td>Kota Bogor</td>\n",
       "      <td>fiction</td>\n",
       "      <td>sastra</td>\n",
       "    </tr>\n",
       "    <tr>\n",
       "      <th>6090</th>\n",
       "      <td>https://www.gramedia.com/products/inevitably-in-love-special-edition</td>\n",
       "      <td>Cecillia Wang</td>\n",
       "      <td>Inevitably in Love Special Edition</td>\n",
       "      <td>Soft Cover</td>\n",
       "      <td>Bukune</td>\n",
       "      <td>340</td>\n",
       "      <td>6 Agt 2018</td>\n",
       "      <td>Indonesia</td>\n",
       "      <td>0.3 kg</td>\n",
       "      <td>NaN</td>\n",
       "      <td>NaN</td>\n",
       "      <td>Rp 110.000</td>\n",
       "      <td>Gramedia Grand Indonesia</td>\n",
       "      <td>Jakarta Pusat</td>\n",
       "      <td>fiction</td>\n",
       "      <td>sastra</td>\n",
       "    </tr>\n",
       "    <tr>\n",
       "      <th>6106</th>\n",
       "      <td>https://www.gramedia.com/products/star-of-you-platinum-edition</td>\n",
       "      <td>Shan A. Fitriani</td>\n",
       "      <td>Star of You (Platinum Edition)</td>\n",
       "      <td>Soft Cover</td>\n",
       "      <td>Loveable</td>\n",
       "      <td>None</td>\n",
       "      <td>25 Sep 2018</td>\n",
       "      <td>Indonesia</td>\n",
       "      <td>0.350 kg</td>\n",
       "      <td>NaN</td>\n",
       "      <td>NaN</td>\n",
       "      <td>Rp 79.500</td>\n",
       "      <td>Gramedia Mall Kelapa Gading</td>\n",
       "      <td>Jakarta Utara</td>\n",
       "      <td>fiction</td>\n",
       "      <td>sastra</td>\n",
       "    </tr>\n",
       "  </tbody>\n",
       "</table>\n",
       "</div>"
      ],
      "text/plain": [
       "                                                                            link  \\\n",
       "2972  https://www.gramedia.com/products/freeport-kembali-ke-pangkuan-ibu-pertiwi   \n",
       "3141  https://www.gramedia.com/products/manajemen-pendidikan-tinggi-1              \n",
       "3262  https://www.gramedia.com/products/laris-manis-bisnis-wisata-halal            \n",
       "3796  https://www.gramedia.com/products/bermain-tts-bersama-bts                    \n",
       "5674  https://www.gramedia.com/products/conf-love-is-blind                         \n",
       "5885  https://www.gramedia.com/products/kisah-1001-malam-5                         \n",
       "6074  https://www.gramedia.com/products/dear-imanku                                \n",
       "6085  https://www.gramedia.com/products/paradigma                                  \n",
       "6090  https://www.gramedia.com/products/inevitably-in-love-special-edition         \n",
       "6106  https://www.gramedia.com/products/star-of-you-platinum-edition               \n",
       "\n",
       "                          author                                     title  \\\n",
       "2972  Fahmy Radhi                 Freeport Kembali Ke Pangkuan Ibu Pertiwi   \n",
       "3141  Prof. Dr. H. Mahmud, M.Si.  Manajemen Pendidikan Tinggi                \n",
       "3262  Cheriatna                   Laris Manis Bisnis Wisata Halal            \n",
       "3796  BTS FAKTA ID                Bermain TTS Bersama BTS                    \n",
       "5674  Lynsay Sands                Love is Blind                              \n",
       "5885  Alfu Lailah Wa Lailah       Kisah 1001 Malam 5                         \n",
       "6074  Mellyana                    Dear, Imanku                               \n",
       "6085  Syahid Muhammad             Paradigma                                  \n",
       "6090  Cecillia Wang               Inevitably in Love Special Edition         \n",
       "6106  Shan A. Fitriani            Star of You (Platinum Edition)             \n",
       "\n",
       "           cover          publisher           pages publish_date   language  \\\n",
       "2972  NaN         Balai Pustaka      None            1 Mei 2019   Indonesia   \n",
       "3141  Soft Cover  Remaja Rosdakarya  320             1 Feb 2019   Indonesia   \n",
       "3262  NaN         Gema Insani        168             13 Mar 2019  Indonesia   \n",
       "3796  Soft Cover  Rainbow Books      None            7 Feb 2019   Indonesia   \n",
       "5674  NaN         Harper Collins     Harper Collins  14 Jan 2015  English     \n",
       "5885  NaN         Divapress          588             25 Mar 2019  Indonesia   \n",
       "6074  Soft Cover  Coconut Books      302             15 Jul 2018  Indonesia   \n",
       "6085  Soft Cover  Gradien Mediatama  316             10 Sep 2018  Indonesia   \n",
       "6090  Soft Cover  Bukune             340             6 Agt 2018   Indonesia   \n",
       "6106  Soft Cover  Loveable           None            25 Sep 2018  Indonesia   \n",
       "\n",
       "         weight width length       price                        store  \\\n",
       "2972  0.358 kg   NaN   NaN    NaN         NaN                           \n",
       "3141  0.444 kg   NaN   NaN    Rp 83.000   Gramedia Bandung Merdeka      \n",
       "3262  0.230 kg   NaN   NaN    NaN         NaN                           \n",
       "3796  0.2 kg     NaN   NaN    Rp 65.000   Gramedia Daan Mogot           \n",
       "5674  0.4000 kg  NaN   NaN    NaN         NaN                           \n",
       "5885  0.661 kg   NaN   NaN    NaN         NaN                           \n",
       "6074  0.2 kg     NaN   NaN    Rp 79.000   Gramedia Garut                \n",
       "6085  0.3 kg     NaN   NaN    Rp 77.000   Gramedia Botani Bogor         \n",
       "6090  0.3 kg     NaN   NaN    Rp 110.000  Gramedia Grand Indonesia      \n",
       "6106  0.350 kg   NaN   NaN    Rp 79.500   Gramedia Mall Kelapa Gading   \n",
       "\n",
       "             region    category subcategory  \n",
       "2972  NaN            nonfiction  bisnis      \n",
       "3141  Kota Bandung   nonfiction  bisnis      \n",
       "3262  NaN            nonfiction  bisnis      \n",
       "3796  Jakarta Barat  nonfiction  bisnis      \n",
       "5674  NaN            fiction     sastra      \n",
       "5885  NaN            fiction     sastra      \n",
       "6074  Garut          fiction     sastra      \n",
       "6085  Kota Bogor     fiction     sastra      \n",
       "6090  Jakarta Pusat  fiction     sastra      \n",
       "6106  Jakarta Utara  fiction     sastra      "
      ]
     },
     "execution_count": 27,
     "metadata": {},
     "output_type": "execute_result"
    }
   ],
   "source": [
    "df1.loc[idx1,:]"
   ]
  },
  {
   "cell_type": "code",
   "execution_count": 28,
   "id": "5f5d3063-7126-4a3c-a1a5-fcd9264a604b",
   "metadata": {},
   "outputs": [],
   "source": [
    "def width_na(data,index,length,width):\n",
    "    data.loc[index,'length'] = length\n",
    "    data.loc[index,'width'] = width"
   ]
  },
  {
   "cell_type": "code",
   "execution_count": 29,
   "id": "1d792d35-dbeb-4511-b3d6-f30c4384e8c7",
   "metadata": {},
   "outputs": [],
   "source": [
    "width_na(df1, idx1[0], 14, 21)\n",
    "width_na(df1, idx1[1], 16, 24)\n",
    "width_na(df1, idx1[2], np.nan, np.nan) # no information for this book\n",
    "width_na(df1, idx1[3], 15, 23)\n",
    "width_na(df1, idx1[4], 10.8, 17.15)\n",
    "width_na(df1, idx1[5], 15.5, 24)\n",
    "width_na(df1, idx1[6], np.NaN, np.nan)# no information for this book\n",
    "width_na(df1, idx1[7], 13, 19.48)\n",
    "width_na(df1, idx1[8], 14, 20)\n",
    "width_na(df1, idx1[9], 14, 20.5)"
   ]
  },
  {
   "cell_type": "markdown",
   "id": "7a938e30-f6f1-4372-95ca-2a5343aedde9",
   "metadata": {},
   "source": [
    "**same as before**, I would fill in other columns as well"
   ]
  },
  {
   "cell_type": "code",
   "execution_count": 30,
   "id": "f99a1f55-e5a2-49c2-9f0a-d4cbfbbe96ff",
   "metadata": {},
   "outputs": [],
   "source": [
    "df1.loc[idx1[0],'price'] = 'Rp 180.000'\n",
    "df1.loc[idx1[0],'cover'] = 'Soft Cover'\n",
    "df1.loc[idx1[0],'pages'] = 272\n",
    "\n",
    "df1.loc[idx1[2],'price'] = 'Rp 65.000'\n",
    "df1.loc[idx1[2],'cover'] = 'Soft Cover'\n",
    "\n",
    "df1.loc[idx1[4],'price'] = 'Rp 158.520'\n",
    "df1.loc[idx1[4],'cover'] = 'Soft Cover'\n",
    "df1.loc[idx1[4],'pages'] = 342\n",
    "df1.loc[idx1[4],'language'] = 'English'\n",
    "\n",
    "df1.loc[idx1[5],'price'] = 'Rp 120.000'\n",
    "df1.loc[idx1[5],'cover'] = 'Soft Cover'\n",
    "df1.loc[idx1[5],'region'] = 'Jakarta Barat'\n",
    "df1.loc[idx1[5],'store'] = 'Gramedia Daan Mogot'\n",
    "\n",
    "df1.loc[idx1[9],'pages'] = 296"
   ]
  },
  {
   "cell_type": "markdown",
   "id": "6bfe5dec-d6e8-4e8d-a453-f83941fa5a11",
   "metadata": {},
   "source": [
    "#### **Replace** NaN values in Width and Length columns with the book that has the same cover, number of pages, and weight ( else, at least nearby )"
   ]
  },
  {
   "cell_type": "code",
   "execution_count": 31,
   "id": "62217987-7a65-4852-a86f-7c286ea28c94",
   "metadata": {},
   "outputs": [
    {
     "data": {
      "text/html": [
       "<div>\n",
       "<style scoped>\n",
       "    .dataframe tbody tr th:only-of-type {\n",
       "        vertical-align: middle;\n",
       "    }\n",
       "\n",
       "    .dataframe tbody tr th {\n",
       "        vertical-align: top;\n",
       "    }\n",
       "\n",
       "    .dataframe thead th {\n",
       "        text-align: right;\n",
       "    }\n",
       "</style>\n",
       "<table border=\"1\" class=\"dataframe\">\n",
       "  <thead>\n",
       "    <tr style=\"text-align: right;\">\n",
       "      <th></th>\n",
       "      <th>link</th>\n",
       "      <th>author</th>\n",
       "      <th>title</th>\n",
       "      <th>cover</th>\n",
       "      <th>publisher</th>\n",
       "      <th>pages</th>\n",
       "      <th>publish_date</th>\n",
       "      <th>language</th>\n",
       "      <th>weight</th>\n",
       "      <th>width</th>\n",
       "      <th>length</th>\n",
       "      <th>price</th>\n",
       "      <th>store</th>\n",
       "      <th>region</th>\n",
       "      <th>category</th>\n",
       "      <th>subcategory</th>\n",
       "    </tr>\n",
       "  </thead>\n",
       "  <tbody>\n",
       "    <tr>\n",
       "      <th>5700</th>\n",
       "      <td>https://www.gramedia.com/products/kisah-tanah-jawa-tikungan-maut</td>\n",
       "      <td>@kisahtanahjawa</td>\n",
       "      <td>Kisah Tanah Jawa : Tikungan Maut</td>\n",
       "      <td>Soft Cover</td>\n",
       "      <td>Gagas Media</td>\n",
       "      <td>168</td>\n",
       "      <td>15 Jan 2021</td>\n",
       "      <td>Indonesia</td>\n",
       "      <td>0.25 kg</td>\n",
       "      <td>13.0 cm</td>\n",
       "      <td>19.0cm</td>\n",
       "      <td>Rp 77.000</td>\n",
       "      <td>Gramedia Plaza Bintaro</td>\n",
       "      <td>Tangerang Selatan</td>\n",
       "      <td>fiction</td>\n",
       "      <td>sastra</td>\n",
       "    </tr>\n",
       "    <tr>\n",
       "      <th>3262</th>\n",
       "      <td>https://www.gramedia.com/products/laris-manis-bisnis-wisata-halal</td>\n",
       "      <td>Cheriatna</td>\n",
       "      <td>Laris Manis Bisnis Wisata Halal</td>\n",
       "      <td>Soft Cover</td>\n",
       "      <td>Gema Insani</td>\n",
       "      <td>168</td>\n",
       "      <td>13 Mar 2019</td>\n",
       "      <td>Indonesia</td>\n",
       "      <td>0.230 kg</td>\n",
       "      <td>NaN</td>\n",
       "      <td>NaN</td>\n",
       "      <td>Rp 65.000</td>\n",
       "      <td>NaN</td>\n",
       "      <td>NaN</td>\n",
       "      <td>nonfiction</td>\n",
       "      <td>bisnis</td>\n",
       "    </tr>\n",
       "    <tr>\n",
       "      <th>6062</th>\n",
       "      <td>https://www.gramedia.com/products/catastrophy</td>\n",
       "      <td>Melanie Jung</td>\n",
       "      <td>Catastrophy</td>\n",
       "      <td>Soft Cover</td>\n",
       "      <td>Kubus Media</td>\n",
       "      <td>302</td>\n",
       "      <td>21 Nov 2018</td>\n",
       "      <td>Indonesia</td>\n",
       "      <td>0.200 kg</td>\n",
       "      <td>20 cm</td>\n",
       "      <td>14cm</td>\n",
       "      <td>Rp 75.000</td>\n",
       "      <td>Gramedia Pondok Gede</td>\n",
       "      <td>Kota Bekasi</td>\n",
       "      <td>fiction</td>\n",
       "      <td>sastra</td>\n",
       "    </tr>\n",
       "    <tr>\n",
       "      <th>6074</th>\n",
       "      <td>https://www.gramedia.com/products/dear-imanku</td>\n",
       "      <td>Mellyana</td>\n",
       "      <td>Dear, Imanku</td>\n",
       "      <td>Soft Cover</td>\n",
       "      <td>Coconut Books</td>\n",
       "      <td>302</td>\n",
       "      <td>15 Jul 2018</td>\n",
       "      <td>Indonesia</td>\n",
       "      <td>0.2 kg</td>\n",
       "      <td>NaN</td>\n",
       "      <td>NaN</td>\n",
       "      <td>Rp 79.000</td>\n",
       "      <td>Gramedia Garut</td>\n",
       "      <td>Garut</td>\n",
       "      <td>fiction</td>\n",
       "      <td>sastra</td>\n",
       "    </tr>\n",
       "  </tbody>\n",
       "</table>\n",
       "</div>"
      ],
      "text/plain": [
       "                                                                   link  \\\n",
       "5700  https://www.gramedia.com/products/kisah-tanah-jawa-tikungan-maut    \n",
       "3262  https://www.gramedia.com/products/laris-manis-bisnis-wisata-halal   \n",
       "6062  https://www.gramedia.com/products/catastrophy                       \n",
       "6074  https://www.gramedia.com/products/dear-imanku                       \n",
       "\n",
       "               author                             title       cover  \\\n",
       "5700  @kisahtanahjawa  Kisah Tanah Jawa : Tikungan Maut  Soft Cover   \n",
       "3262  Cheriatna        Laris Manis Bisnis Wisata Halal   Soft Cover   \n",
       "6062  Melanie Jung     Catastrophy                       Soft Cover   \n",
       "6074  Mellyana         Dear, Imanku                      Soft Cover   \n",
       "\n",
       "          publisher pages publish_date   language    weight    width  length  \\\n",
       "5700  Gagas Media    168   15 Jan 2021  Indonesia  0.25 kg   13.0 cm  19.0cm   \n",
       "3262  Gema Insani    168   13 Mar 2019  Indonesia  0.230 kg  NaN      NaN      \n",
       "6062  Kubus Media    302   21 Nov 2018  Indonesia  0.200 kg  20 cm    14cm     \n",
       "6074  Coconut Books  302   15 Jul 2018  Indonesia  0.2 kg    NaN      NaN      \n",
       "\n",
       "          price                   store             region    category  \\\n",
       "5700  Rp 77.000  Gramedia Plaza Bintaro  Tangerang Selatan  fiction      \n",
       "3262  Rp 65.000  NaN                     NaN                nonfiction   \n",
       "6062  Rp 75.000  Gramedia Pondok Gede    Kota Bekasi        fiction      \n",
       "6074  Rp 79.000  Gramedia Garut          Garut              fiction      \n",
       "\n",
       "     subcategory  \n",
       "5700  sastra      \n",
       "3262  bisnis      \n",
       "6062  sastra      \n",
       "6074  sastra      "
      ]
     },
     "execution_count": 31,
     "metadata": {},
     "output_type": "execute_result"
    }
   ],
   "source": [
    "miss_w = df1[df1.width.isna()]\n",
    "miss_l = df1[df1.length.isna()]\n",
    "\n",
    "# after checking, I decided to fill the \"miss width\" with index 5700 and 6062\n",
    "df1.loc[[5700,miss_w.index[0],6062,miss_w.index[1]]]"
   ]
  },
  {
   "cell_type": "code",
   "execution_count": 32,
   "id": "953409c4-e25f-40bd-baa3-f9a5fe3ba2f1",
   "metadata": {},
   "outputs": [],
   "source": [
    "df1.loc[miss_w[miss_w.width.isna()].index[0],'width'] = 13\n",
    "df1.loc[miss_w[miss_w.width.isna()].index[1],'width'] = 20"
   ]
  },
  {
   "cell_type": "code",
   "execution_count": 33,
   "id": "bff3e487-8a6c-452f-95b6-8a2a9454f02d",
   "metadata": {},
   "outputs": [],
   "source": [
    "# length"
   ]
  },
  {
   "cell_type": "markdown",
   "id": "5fcbd98b-fe06-4deb-a1e8-8ba0dfa7fb33",
   "metadata": {},
   "source": [
    "there are some wrong values in language column, **they should be the length** of the book"
   ]
  },
  {
   "cell_type": "code",
   "execution_count": 34,
   "id": "ff9a85d7-5222-4ac0-80be-ccd55cb6faff",
   "metadata": {},
   "outputs": [
    {
     "data": {
      "text/html": [
       "<div>\n",
       "<style scoped>\n",
       "    .dataframe tbody tr th:only-of-type {\n",
       "        vertical-align: middle;\n",
       "    }\n",
       "\n",
       "    .dataframe tbody tr th {\n",
       "        vertical-align: top;\n",
       "    }\n",
       "\n",
       "    .dataframe thead th {\n",
       "        text-align: right;\n",
       "    }\n",
       "</style>\n",
       "<table border=\"1\" class=\"dataframe\">\n",
       "  <thead>\n",
       "    <tr style=\"text-align: right;\">\n",
       "      <th></th>\n",
       "      <th>link</th>\n",
       "      <th>author</th>\n",
       "      <th>title</th>\n",
       "      <th>cover</th>\n",
       "      <th>publisher</th>\n",
       "      <th>pages</th>\n",
       "      <th>publish_date</th>\n",
       "      <th>language</th>\n",
       "      <th>weight</th>\n",
       "      <th>width</th>\n",
       "      <th>length</th>\n",
       "      <th>price</th>\n",
       "      <th>store</th>\n",
       "      <th>region</th>\n",
       "      <th>category</th>\n",
       "      <th>subcategory</th>\n",
       "    </tr>\n",
       "  </thead>\n",
       "  <tbody>\n",
       "    <tr>\n",
       "      <th>507</th>\n",
       "      <td>https://www.gramedia.com/products/asbabun-nuzul-sebab-turunnya-ayat-al-quran</td>\n",
       "      <td>Jalaluddin As-Suyuthi</td>\n",
       "      <td>Asbabun Nuzul - Sebab Turunnya Ayat Al-Quran</td>\n",
       "      <td>Soft Cover</td>\n",
       "      <td>GEMA INSANI</td>\n",
       "      <td>0.0</td>\n",
       "      <td>1 Mar 2021</td>\n",
       "      <td>0.0cm</td>\n",
       "      <td>1140.0 kg</td>\n",
       "      <td>0.0 cm</td>\n",
       "      <td>NaN</td>\n",
       "      <td>Rp 140.000</td>\n",
       "      <td>Gramedia Plaza Bintaro</td>\n",
       "      <td>Tangerang Selatan</td>\n",
       "      <td>nonfiction</td>\n",
       "      <td>agama</td>\n",
       "    </tr>\n",
       "    <tr>\n",
       "      <th>560</th>\n",
       "      <td>https://www.gramedia.com/products/mukjizat-tahajud-duha-puasa</td>\n",
       "      <td>Aba Mehmed Agha</td>\n",
       "      <td>Mukjizat Tahajud, Duha &amp; Puasa</td>\n",
       "      <td>Soft Cover</td>\n",
       "      <td>Checklist</td>\n",
       "      <td>315.0</td>\n",
       "      <td>20 Mar 2020</td>\n",
       "      <td>20.0cm</td>\n",
       "      <td>0.279 kg</td>\n",
       "      <td>14.0 cm</td>\n",
       "      <td>NaN</td>\n",
       "      <td>Rp 60.800</td>\n",
       "      <td>Matraman</td>\n",
       "      <td>Jakarta Timur</td>\n",
       "      <td>nonfiction</td>\n",
       "      <td>agama</td>\n",
       "    </tr>\n",
       "    <tr>\n",
       "      <th>842</th>\n",
       "      <td>https://www.gramedia.com/products/al-quran-cordoba-perkata-a4-al-ihsan</td>\n",
       "      <td>Cordoba International Indonesia,</td>\n",
       "      <td>Al Qur`An Cordoba Perkata A4 Al-Ihsan</td>\n",
       "      <td>Soft Cover</td>\n",
       "      <td>Gramedia Widiasarana Indonesia</td>\n",
       "      <td>0.0</td>\n",
       "      <td>24 Agt 2020</td>\n",
       "      <td>0.0cm</td>\n",
       "      <td>1.0 kg</td>\n",
       "      <td>0.0 cm</td>\n",
       "      <td>NaN</td>\n",
       "      <td>Rp 95.200</td>\n",
       "      <td>Gramedia Depok</td>\n",
       "      <td>Depok</td>\n",
       "      <td>nonfiction</td>\n",
       "      <td>agama</td>\n",
       "    </tr>\n",
       "    <tr>\n",
       "      <th>910</th>\n",
       "      <td>https://www.gramedia.com/products/ensiklopedi-akhlak-rasulullah</td>\n",
       "      <td>Syaikh Mahmud Al Mishri</td>\n",
       "      <td>Ensiklopedi Akhlak Rasulullah</td>\n",
       "      <td>Hard Cover</td>\n",
       "      <td>Pustaka Al Kautsar</td>\n",
       "      <td>0.0</td>\n",
       "      <td>20 Mei 2021</td>\n",
       "      <td>24.0cm</td>\n",
       "      <td>1.8 kg</td>\n",
       "      <td>15.0 cm</td>\n",
       "      <td>NaN</td>\n",
       "      <td>Rp 248.000</td>\n",
       "      <td>Gramedia Depok</td>\n",
       "      <td>Depok</td>\n",
       "      <td>nonfiction</td>\n",
       "      <td>agama</td>\n",
       "    </tr>\n",
       "    <tr>\n",
       "      <th>1630</th>\n",
       "      <td>https://www.gramedia.com/products/sdmi-kliv-tematik-4-tema-3-lebih-peduli-thd-makhluk-hidup</td>\n",
       "      <td>Barmin,</td>\n",
       "      <td>Sd/Mi Kl.Iv Tematik 4 Tema 3 Lebih Peduli Thd Makhluk Hidup</td>\n",
       "      <td>Soft Cover</td>\n",
       "      <td>Tiga Serangkai</td>\n",
       "      <td>0.0</td>\n",
       "      <td>1 Jan 2019</td>\n",
       "      <td>0.0cm</td>\n",
       "      <td>100.0 kg</td>\n",
       "      <td>0.0 cm</td>\n",
       "      <td>NaN</td>\n",
       "      <td>Rp 44.000</td>\n",
       "      <td>Gramedia Emerald Bintaro</td>\n",
       "      <td>Tangerang Selatan</td>\n",
       "      <td>nonfiction</td>\n",
       "      <td>pendidikan</td>\n",
       "    </tr>\n",
       "  </tbody>\n",
       "</table>\n",
       "</div>"
      ],
      "text/plain": [
       "                                                                                             link  \\\n",
       "507   https://www.gramedia.com/products/asbabun-nuzul-sebab-turunnya-ayat-al-quran                  \n",
       "560   https://www.gramedia.com/products/mukjizat-tahajud-duha-puasa                                 \n",
       "842   https://www.gramedia.com/products/al-quran-cordoba-perkata-a4-al-ihsan                        \n",
       "910   https://www.gramedia.com/products/ensiklopedi-akhlak-rasulullah                               \n",
       "1630  https://www.gramedia.com/products/sdmi-kliv-tematik-4-tema-3-lebih-peduli-thd-makhluk-hidup   \n",
       "\n",
       "                                author  \\\n",
       "507   Jalaluddin As-Suyuthi              \n",
       "560   Aba Mehmed Agha                    \n",
       "842   Cordoba International Indonesia,   \n",
       "910   Syaikh Mahmud Al Mishri            \n",
       "1630  Barmin,                            \n",
       "\n",
       "                                                            title       cover  \\\n",
       "507   Asbabun Nuzul - Sebab Turunnya Ayat Al-Quran                 Soft Cover   \n",
       "560   Mukjizat Tahajud, Duha & Puasa                               Soft Cover   \n",
       "842   Al Qur`An Cordoba Perkata A4 Al-Ihsan                        Soft Cover   \n",
       "910   Ensiklopedi Akhlak Rasulullah                                Hard Cover   \n",
       "1630  Sd/Mi Kl.Iv Tematik 4 Tema 3 Lebih Peduli Thd Makhluk Hidup  Soft Cover   \n",
       "\n",
       "                           publisher  pages publish_date language     weight  \\\n",
       "507   GEMA INSANI                     0.0    1 Mar 2021   0.0cm    1140.0 kg   \n",
       "560   Checklist                       315.0  20 Mar 2020  20.0cm   0.279 kg    \n",
       "842   Gramedia Widiasarana Indonesia  0.0    24 Agt 2020  0.0cm    1.0 kg      \n",
       "910   Pustaka Al Kautsar              0.0    20 Mei 2021  24.0cm   1.8 kg      \n",
       "1630  Tiga Serangkai                  0.0    1 Jan 2019   0.0cm    100.0 kg    \n",
       "\n",
       "        width length       price                     store             region  \\\n",
       "507   0.0 cm   NaN    Rp 140.000  Gramedia Plaza Bintaro    Tangerang Selatan   \n",
       "560   14.0 cm  NaN    Rp 60.800   Matraman                  Jakarta Timur       \n",
       "842   0.0 cm   NaN    Rp 95.200   Gramedia Depok            Depok               \n",
       "910   15.0 cm  NaN    Rp 248.000  Gramedia Depok            Depok               \n",
       "1630  0.0 cm   NaN    Rp 44.000   Gramedia Emerald Bintaro  Tangerang Selatan   \n",
       "\n",
       "        category subcategory  \n",
       "507   nonfiction  agama       \n",
       "560   nonfiction  agama       \n",
       "842   nonfiction  agama       \n",
       "910   nonfiction  agama       \n",
       "1630  nonfiction  pendidikan  "
      ]
     },
     "execution_count": 34,
     "metadata": {},
     "output_type": "execute_result"
    }
   ],
   "source": [
    "df1[df1.language.str.contains('cm')].head()"
   ]
  },
  {
   "cell_type": "code",
   "execution_count": 35,
   "id": "9ccd3aac-f472-4cde-80d6-e731a42d4269",
   "metadata": {},
   "outputs": [],
   "source": [
    "df1.loc[df1[df1.language.str.contains('cm')].index,'length'] = df1[df1.language.str.contains('cm')]['language']\n",
    "\n",
    "# change the zero length and width into nan\n",
    "df1.loc[df1[df1.width == '0.0 cm'].index,'width'] = np.nan\n",
    "df1.loc[df1[df1.length == '0.0cm'].index,'length'] = np.nan\n",
    "\n",
    "# Let's clean them again\n",
    "idx2 = df1[df1.width.isna()]"
   ]
  },
  {
   "cell_type": "code",
   "execution_count": 36,
   "id": "dafc6bf9-4592-4c89-8355-c4d427a3b14b",
   "metadata": {},
   "outputs": [],
   "source": [
    "# mostly, I got this data from Shopee, Tokopedia, and google books\n",
    "\n",
    "width_na(df1, idx2.index[0], 15, 23)\n",
    "df1.drop(index=idx2.index[1],inplace=True,errors='ignore') # I drop this since there are no information for this book and its type is rare\n",
    "width_na(df1, idx2.index[2], 21, 29.7)\n",
    "width_na(df1, idx2.index[3], 19, 26)\n",
    "width_na(df1, idx2.index[4], 20, 28)\n",
    "width_na(df1, idx2.index[5], 15, 23)\n",
    "width_na(df1, idx2.index[6], 15, 23)\n",
    "width_na(df1, idx2.index[7], 15.42, 23.24)\n",
    "width_na(df1, idx2.index[8], 13.5, 20)\n",
    "width_na(df1, idx2.index[9], 15, 24)\n",
    "width_na(df1, idx2.index[10], 14, 21)\n",
    "width_na(df1, idx2.index[11], 16, 23)\n",
    "width_na(df1, idx2.index[12], 15, 23)\n",
    "width_na(df1, idx2.index[13], 13, 20)\n",
    "width_na(df1, idx2.index[14], 15, 23)\n",
    "width_na(df1, idx2.index[15], 15, 23)\n",
    "width_na(df1, idx2.index[16], 15, 23)\n",
    "width_na(df1, idx2.index[17], 14.5, 20)\n",
    "width_na(df1, idx2.index[18], 10.9, 18)"
   ]
  },
  {
   "cell_type": "code",
   "execution_count": 37,
   "id": "77efb5b4-e62f-48b6-8134-6feaa04ae937",
   "metadata": {},
   "outputs": [],
   "source": [
    "df1.loc[idx2.index[0],'pages'] = 656\n",
    "df1.loc[idx2.index[2],'pages'] = 615\n",
    "df1.loc[idx2.index[4],'pages'] = 166\n",
    "df1.loc[idx2.index[4],'weight'] = 0.4\n",
    "df1.loc[idx2.index[5],'pages'] = 177\n",
    "df1.loc[idx2.index[6],'pages'] = 239\n",
    "df1.loc[idx2.index[7],'pages'] = 284\n",
    "df1.loc[idx2.index[9],'pages'] = 388\n",
    "df1.loc[idx2.index[9],'price'] = 'Rp 110.000'\n",
    "df1.loc[idx2.index[9],'cover'] = 'Soft Cover'\n",
    "df1.loc[idx2.index[10],'pages'] = 85\n",
    "df1.loc[idx2.index[11],'pages'] = 144\n",
    "df1.loc[idx2.index[14],'pages'] = 176\n",
    "df1.loc[idx2.index[15],'cover'] = 'Soft Cover'\n",
    "df1.loc[idx2.index[15],'pages'] = 314\n",
    "df1.loc[idx2.index[15],'price'] = 'Rp 72.900'\n",
    "df1.loc[idx2.index[16],'pages'] = 268\n",
    "df1.loc[idx2.index[17],'pages'] = 396\n",
    "df1.loc[idx2.index[18],'pages'] = 363\n",
    "df1.loc[idx2.index[18],'weight'] = 0.4"
   ]
  },
  {
   "cell_type": "markdown",
   "id": "d3c36de7-afd7-4a10-a983-3ba5a9cee28d",
   "metadata": {
    "tags": []
   },
   "source": [
    "### Finishing with fixing the data which still have the wrong values"
   ]
  },
  {
   "cell_type": "markdown",
   "id": "b4c0fa82-fab3-4e10-bc1f-2e41a963ad50",
   "metadata": {
    "tags": []
   },
   "source": [
    "#### **Language**"
   ]
  },
  {
   "cell_type": "markdown",
   "id": "53d930aa-a257-41b6-8240-a99eaef3c4a7",
   "metadata": {
    "tags": []
   },
   "source": [
    "Based on the analysis before, almost all book titles that contain 'cm' in the language column are Indonesian. Thus, just take it and replace them with **Indonesia**. "
   ]
  },
  {
   "cell_type": "markdown",
   "id": "a03d53f9-6381-4654-bb2b-57c3e682e830",
   "metadata": {
    "tags": []
   },
   "source": [
    "For the others,they just only enough with completing and capitalizing the words. And the last one, Bilingual will be changed into **English**"
   ]
  },
  {
   "cell_type": "code",
   "execution_count": 38,
   "id": "6519773d-3477-40e3-8ecf-424452244617",
   "metadata": {},
   "outputs": [],
   "source": [
    "df1.loc[df1[df1.language.str.contains('cm')].index,'language'] = 'Indonesia'\n",
    "df1.replace({'language':{'eng':'English',\n",
    "                         'ind':'Indonesia',\n",
    "                         'indonesia':'Indonesia',\n",
    "                         'Bilingual':'English'\n",
    "            }},inplace=True)"
   ]
  },
  {
   "cell_type": "code",
   "execution_count": 39,
   "id": "913c9ea0-8bb5-4aac-b69a-bfc3b7221aab",
   "metadata": {},
   "outputs": [
    {
     "data": {
      "image/png": "[encoded data removed]",
      "text/plain": [
       "<Figure size 648x468 with 1 Axes>"
      ]
     },
     "metadata": {
      "needs_background": "light"
     },
     "output_type": "display_data"
    }
   ],
   "source": [
    "plt.figure(figsize=(9,6.5))\n",
    "sns.countplot(df1.language)\n",
    "plt.show()"
   ]
  },
  {
   "cell_type": "markdown",
   "id": "6d5d97f8-094f-4626-a26f-94e89d6132fa",
   "metadata": {
    "tags": []
   },
   "source": [
    "There is a huge different amount between them. We could say that their main customers are probably **Indonesians**, so they stocked with our mother language"
   ]
  },
  {
   "cell_type": "markdown",
   "id": "a9e2df48-d548-4927-99d4-d6a4d151bae6",
   "metadata": {
    "tags": []
   },
   "source": [
    "#### **Weight**"
   ]
  },
  {
   "cell_type": "code",
   "execution_count": 40,
   "id": "888be76f-2cb4-4306-a491-d47772c041c1",
   "metadata": {},
   "outputs": [],
   "source": [
    "df1['weight'] = df1.weight.apply(lambda x:str(x).replace('kg','')).astype(float)\n",
    "df1.loc[df1[df1['weight']>100].index,'weight'] = df1.loc[df1[df1['weight']>100].index,'weight']/100\n",
    "df1.loc[df1[df1['weight']>2].index,'weight'] = df1.loc[df1[df1['weight']>2].index,'weight']/10\n",
    "df1.loc[3595,'weight'] = 0.3"
   ]
  },
  {
   "cell_type": "code",
   "execution_count": 41,
   "id": "8015a456-cb44-4c02-957f-193470093fc9",
   "metadata": {},
   "outputs": [],
   "source": [
    "# I found some values that not fit with the real values ( checking with boxplot )\n",
    "\n",
    "df1.loc[3812,'weight'] = 0.48\n",
    "df1.loc[5827,'weight'] = 0.15"
   ]
  },
  {
   "cell_type": "code",
   "execution_count": 42,
   "id": "b84e8cc7-c5bd-42b2-bef9-e6de1853982e",
   "metadata": {},
   "outputs": [
    {
     "data": {
      "image/png": "[encoded data removed]",
      "text/plain": [
       "<Figure size 648x360 with 1 Axes>"
      ]
     },
     "metadata": {
      "needs_background": "light"
     },
     "output_type": "display_data"
    }
   ],
   "source": [
    "plt.figure(figsize=(9,5))\n",
    "sns.boxplot(df1.weight,fliersize=3,linewidth=0.6,color='tab:blue')\n",
    "plt.grid(False)\n",
    "plt.show()"
   ]
  },
  {
   "cell_type": "markdown",
   "id": "3d97ad92-9226-4800-bc65-c2db03b25d36",
   "metadata": {},
   "source": [
    "Great! There are **no more** books more than **2 kg**. It gave us a good sign that the books are of a normal size"
   ]
  },
  {
   "cell_type": "markdown",
   "id": "c7a80327-9517-4df7-af10-c78036288413",
   "metadata": {
    "tags": []
   },
   "source": [
    "#### **Length and Width**"
   ]
  },
  {
   "cell_type": "code",
   "execution_count": 43,
   "id": "5783c919-a485-44c7-8e86-5f1d98fd1194",
   "metadata": {},
   "outputs": [],
   "source": [
    "df1.loc[~(df1.length.isna()),'length'] = df1[~(df1.length.isna())]['length'].apply(lambda x:str(x).replace('cm','')).astype(float)\n",
    "df1.loc[~(df1.width.isna()),'width']   = df1[~(df1.width.isna())]['width'].apply(lambda x:str(x).replace('cm','')).astype(float)\n",
    "\n",
    "idx3 = df1[(df1.width == 0)&(df1.cover!='EBook')] # fix the non-Ebook\n",
    "\n",
    "width_na(df1,idx3.index[0], 15.5, 23)\n",
    "width_na(df1,idx3.index[1], 13, 20)\n",
    "width_na(df1,idx3.index[2], 10.67, 17.42)"
   ]
  },
  {
   "cell_type": "code",
   "execution_count": 44,
   "id": "0ec4a5e6-39c4-44da-8296-392e64e88541",
   "metadata": {},
   "outputs": [],
   "source": [
    "df1.loc[idx3.index[0],'pages'] = 298\n",
    "df1.loc[idx3.index[0],'weight'] = 0.6\n",
    "df1.loc[idx3.index[1],'pages'] = 388\n",
    "df1['length'] = df1.length.astype(float)\n",
    "\n",
    "df1.loc[df1[df1.length>10000].index,'length'] = df1.loc[df1[df1.length>10000].index,'length']/1000\n",
    "df1.loc[df1[df1.length>1000].index,'length'] = df1.loc[df1[df1.length>1000].index,'length']/100\n",
    "df1.loc[df1[df1.width>1000].index,'width'] = df1.loc[df1[df1.width>1000].index,'width']/100\n",
    "df1.loc[df1[df1.width>90].index,'width']  = df1.loc[df1[df1.width>90].index,'width']/10\n",
    "\n",
    "# fix non ebook\n",
    "idx4 = df1[(df1.length<6)&(df1.cover!='EBook')]\n",
    "idx5 = df1[(df1.width<5)&(df1.cover!='EBook')]"
   ]
  },
  {
   "cell_type": "code",
   "execution_count": 45,
   "id": "2095a322-9ae1-4cf7-8e63-dab1e1c9f4eb",
   "metadata": {},
   "outputs": [],
   "source": [
    "# I found some values that not fit with the real values ( checking with boxplot )\n",
    "\n",
    "df1.loc[2511,'length'] = 14\n",
    "df1.loc[2511,'width']  = 21"
   ]
  },
  {
   "cell_type": "code",
   "execution_count": 46,
   "id": "fb474f86-4355-427c-93a8-1eb52d06b2a3",
   "metadata": {},
   "outputs": [],
   "source": [
    "df1.loc[idx4.index[0],'pages'] = 304\n",
    "df1.loc[idx4.index[0],'length'] = 22\n",
    "df1.loc[idx4.index[0],'price'] = 'Rp 85.000'\n",
    "df1.loc[idx4.index[2],'pages'] = 268\n",
    "df1.loc[idx4.index[2],'length'] = 15\n",
    "df1.loc[idx4.index[3],'price'] = 'Rp 58.000'\n",
    "\n",
    "df1.loc[idx5.index[1],'price'] = 'Rp 100.000'\n",
    "df1.loc[idx5.index[1],'pages'] = 369\n",
    "\n",
    "df1.loc[idx5.index[2],'price'] = 'Rp 113.936'"
   ]
  },
  {
   "cell_type": "code",
   "execution_count": 47,
   "id": "916749b4-58f5-4a82-acbe-77795521ed3a",
   "metadata": {},
   "outputs": [],
   "source": [
    "width_na(df1,idx5.index[0],14,21)\n",
    "width_na(df1,idx5.index[1],13.5,20.7)\n",
    "width_na(df1,idx5.index[2],14.86,21.64)"
   ]
  },
  {
   "cell_type": "markdown",
   "id": "9effc5e3-a5e5-407b-9c02-5d2590f09a6a",
   "metadata": {},
   "source": [
    "Replace NaN values in length with its median. In my opinion, this way is safer since this variable has some outliers"
   ]
  },
  {
   "cell_type": "code",
   "execution_count": 48,
   "id": "3c3221d8-a984-4cae-8e1a-3b3e2336f745",
   "metadata": {},
   "outputs": [],
   "source": [
    "df1['length'] = df1['length'].fillna(df1['length'].median())"
   ]
  },
  {
   "cell_type": "markdown",
   "id": "31a29d7d-31bd-4072-b43f-a80b2051563b",
   "metadata": {},
   "source": [
    "**Swap length and width if the length is more than the width**. This is the value should be because the normal book has the longer width"
   ]
  },
  {
   "cell_type": "code",
   "execution_count": 49,
   "id": "0dcf3af8-2b72-4eab-8c12-862153c84772",
   "metadata": {},
   "outputs": [],
   "source": [
    "dummy_df = df1.copy()\n",
    "idx_wl   = df1[df1.width<df1.length]\n",
    "\n",
    "df1.loc[idx_wl.index,'width'] = dummy_df.length\n",
    "df1.loc[idx_wl.index,'length'] = dummy_df.width"
   ]
  },
  {
   "cell_type": "code",
   "execution_count": 50,
   "id": "41973394-6a84-4c69-a454-640cc4bb3048",
   "metadata": {},
   "outputs": [
    {
     "data": {
      "image/png": "[encoded data removed]",
      "text/plain": [
       "<Figure size 1368x360 with 2 Axes>"
      ]
     },
     "metadata": {
      "needs_background": "light"
     },
     "output_type": "display_data"
    }
   ],
   "source": [
    "fig, ax = plt.subplots(1,2,figsize=(19,5))\n",
    "sns.boxplot(df1.length,ax=ax[0],fliersize=3,linewidth=0.6,color='tab:blue')\n",
    "sns.boxplot(df1.width,ax=ax[1],fliersize=3,linewidth=0.6,color='tab:orange')\n",
    "ax[0].grid(False)\n",
    "plt.grid(False)\n",
    "plt.show()"
   ]
  },
  {
   "cell_type": "markdown",
   "id": "5b28d08f-02cc-471e-aafb-81f2f659da3e",
   "metadata": {},
   "source": [
    "Seems the length and width **don't have abnormal values**"
   ]
  },
  {
   "cell_type": "markdown",
   "id": "13569d98-eeea-42af-a034-3bc6e9ed6184",
   "metadata": {},
   "source": [
    "Remember, zero length and width is E-book. and we will keep them for now"
   ]
  },
  {
   "cell_type": "markdown",
   "id": "3aac2725-9e44-4383-a83b-04fe01b894f5",
   "metadata": {
    "tags": []
   },
   "source": [
    "#### **Pages**"
   ]
  },
  {
   "cell_type": "code",
   "execution_count": 51,
   "id": "720db718-b219-417d-8386-15760aa7598e",
   "metadata": {},
   "outputs": [],
   "source": [
    "# value \"pages\" is publisher. Since this wrong types is not many, I fix them manually\n",
    "\n",
    "df1.loc[df1[df1.pages=='GRAMEDIA PUSTAKA UTAMA'].index,'pages'] = 240\n",
    "df1.loc[df1[df1.pages=='DIVAPRESS'].index,'price'] = 'Rp 60.000'\n",
    "df1.loc[df1[df1.pages=='DIVAPRESS'].index,'pages'] = 120\n",
    "\n",
    "df1.drop(index=df1[df1.pages == 'Harper Collins'].index,inplace=True)\n",
    "idx6 = df1[df1.pages == 'None']"
   ]
  },
  {
   "cell_type": "code",
   "execution_count": 52,
   "id": "3498cf42-8ced-40fc-b0c1-b44405925f8c",
   "metadata": {},
   "outputs": [],
   "source": [
    "df1.loc[idx6.index[0],'price'] = 'Rp 151.000'\n",
    "df1.loc[idx6.index[0],'pages'] = 400\n",
    "df1.loc[idx6.index[1],'pages'] = 120\n",
    "df1.loc[idx6.index[2],'pages'] = 178\n",
    "df1.loc[idx6.index[3],'pages'] = 278\n",
    "\n",
    "df1['pages'] = df1['pages'].astype(float)"
   ]
  },
  {
   "cell_type": "markdown",
   "id": "38872c8d-3452-4a1e-8222-f1cd055f58ec",
   "metadata": {},
   "source": [
    "**remove 0 pages** ( after checking these books, they are packages, not an individual book ) and also we will only take the book which no more than 2500 pages"
   ]
  },
  {
   "cell_type": "code",
   "execution_count": 53,
   "id": "79fa3b7f-453c-478f-8baa-7e4af9f11004",
   "metadata": {},
   "outputs": [],
   "source": [
    "df1 = df1[df1.pages<2500]\n",
    "df1 = df1[~((df1.pages==0))]"
   ]
  },
  {
   "cell_type": "markdown",
   "id": "cede2ec2-2181-4330-a019-139157c7032a",
   "metadata": {
    "tags": []
   },
   "source": [
    "#### **Cover**"
   ]
  },
  {
   "cell_type": "code",
   "execution_count": 54,
   "id": "cefcf8cf-70ab-4760-92cd-fbe8ec7f3c43",
   "metadata": {},
   "outputs": [],
   "source": [
    "df1.loc[df1[df1.cover.isna()].index,'cover'] = 'Soft Cover'\n",
    "df1.replace({'cover':{'Print on Demand':'Soft Cover'}},inplace=True)"
   ]
  },
  {
   "cell_type": "code",
   "execution_count": 55,
   "id": "e98e9ae6-f6e0-4c87-bd16-87d47221cae3",
   "metadata": {},
   "outputs": [
    {
     "data": {
      "image/png": "[encoded data removed]",
      "text/plain": [
       "<Figure size 648x360 with 1 Axes>"
      ]
     },
     "metadata": {
      "needs_background": "light"
     },
     "output_type": "display_data"
    }
   ],
   "source": [
    "plt.figure(figsize=(9,5))\n",
    "sns.countplot(df1.cover,color='tab:blue')\n",
    "plt.grid(False)\n",
    "plt.show()"
   ]
  },
  {
   "cell_type": "markdown",
   "id": "06170322-e66e-4f62-a900-e137faecc5e0",
   "metadata": {
    "tags": []
   },
   "source": [
    "There is a huge gap between either soft and hard cover or soft-cover and ebook. That makes sense. Because when I came to Gramedia, most of their books were covered with \"soft stuff\""
   ]
  },
  {
   "cell_type": "markdown",
   "id": "8fa3048d-b9a8-4a8f-be0e-27cbd270a111",
   "metadata": {
    "tags": []
   },
   "source": [
    "#### **Price**"
   ]
  },
  {
   "cell_type": "code",
   "execution_count": 56,
   "id": "bdc1d596-cb84-4ad1-ac8f-59bda8c43169",
   "metadata": {},
   "outputs": [],
   "source": [
    "df2 = df1.copy()\n",
    "\n",
    "# remove \"Rp\" so that the data can be changed into float\n",
    "df2['price'] = df2.price.apply(lambda m:str(m).replace('Rp','')).astype(float)*1000"
   ]
  },
  {
   "cell_type": "code",
   "execution_count": 57,
   "id": "82e3d659-ccea-4722-bdab-f4d92dd42c66",
   "metadata": {},
   "outputs": [
    {
     "data": {
      "text/plain": [
       "count    5661.000000  \n",
       "mean     68175.710828 \n",
       "std      37260.019189 \n",
       "min      4800.000000  \n",
       "25%      42500.000000 \n",
       "50%      60720.000000 \n",
       "75%      88000.000000 \n",
       "max      398000.000000\n",
       "Name: price, dtype: float64"
      ]
     },
     "execution_count": 57,
     "metadata": {},
     "output_type": "execute_result"
    }
   ],
   "source": [
    "df2.price.describe()"
   ]
  },
  {
   "cell_type": "code",
   "execution_count": 58,
   "id": "02371ef7-99ff-47c3-a674-d45c779cb74d",
   "metadata": {},
   "outputs": [
    {
     "data": {
      "image/png": "[encoded data removed]",
      "text/plain": [
       "<Figure size 648x360 with 1 Axes>"
      ]
     },
     "metadata": {
      "needs_background": "light"
     },
     "output_type": "display_data"
    }
   ],
   "source": [
    "df2.drop(index=df2[df2.price>300000].index,inplace=True)\n",
    "\n",
    "plt.figure(figsize=(9,5))\n",
    "sns.boxplot(df2.price,fliersize=3,linewidth=0.6,color='tab:blue')\n",
    "plt.grid(False)\n",
    "plt.show()"
   ]
  },
  {
   "cell_type": "markdown",
   "id": "1d5c46aa-c289-4444-b879-8f45ba7b36b8",
   "metadata": {},
   "source": [
    "Replace remaining NaN price by considering **pages, weight, cover, width, and length** from other data using KNN Regressor. Later, I will use other algorithms to model the data such as XGBoost, NGBoost, LGBM, etc ( will also include the category, language, year published, region, etc ). But, for this imputing missing values, I just use KNN to fill them without tuning any parameters"
   ]
  },
  {
   "cell_type": "code",
   "execution_count": 59,
   "id": "bb821b3c-df8c-4dd8-b384-9e4fffe52b73",
   "metadata": {},
   "outputs": [],
   "source": [
    "# df2.loc[df2[df2.pages==40][df2[df2.pages==40].price.isna()].index,'price'] = '56000'\n",
    "# df2.loc[df2[df2.pages==30][df2[df2.pages==30].price.isna()].index,'price'] = df2[df2.pages == 30].price.mean()"
   ]
  },
  {
   "cell_type": "code",
   "execution_count": 60,
   "id": "5ebf99a0-f641-4e7c-a48f-e9ba33d5625a",
   "metadata": {},
   "outputs": [],
   "source": [
    "idx_try = df2[df2.pages==40].price.isna() # for cheking the result of regressor"
   ]
  },
  {
   "cell_type": "code",
   "execution_count": 61,
   "id": "beca959c-4935-4ff4-975b-3a6296390198",
   "metadata": {},
   "outputs": [],
   "source": [
    "from sklearn.neighbors import KNeighborsRegressor\n",
    "from sklearn.preprocessing import MinMaxScaler\n",
    "\n",
    "df3 = df2[['cover', 'pages','weight','width','length','price']]\n",
    "df3 = pd.get_dummies(df3,'cover')"
   ]
  },
  {
   "cell_type": "code",
   "execution_count": 239,
   "id": "4153dc6b-4bbc-4b8f-b2a0-ef70b7434774",
   "metadata": {},
   "outputs": [],
   "source": [
    "impute = KNeighborsRegressor(n_neighbors=7,weights='distance')\n",
    "scaler = MinMaxScaler()"
   ]
  },
  {
   "cell_type": "code",
   "execution_count": 240,
   "id": "368e2dd5-d5b1-4630-af3a-09fb32fcfac1",
   "metadata": {},
   "outputs": [
    {
     "data": {
      "text/plain": [
       "MinMaxScaler()"
      ]
     },
     "execution_count": 240,
     "metadata": {},
     "output_type": "execute_result"
    }
   ],
   "source": [
    "X_test = df3[df3.price.isna()].drop(columns='price')\n",
    "X_train  = df3.drop(index=X_test.index,columns='price')\n",
    "y_train  = df3.drop(index=X_test.index).price\n",
    "y_test = df3[df3.price.isna()].price\n",
    "# X_train['pages'] = np.log(X_train['pages'])\n",
    "scaler.fit(X_train)"
   ]
  },
  {
   "cell_type": "code",
   "execution_count": 241,
   "id": "f3775c8a-c93f-4f85-bf12-87d06754efda",
   "metadata": {
    "tags": []
   },
   "outputs": [],
   "source": [
    "X_train1 = scaler.transform(X_train)\n",
    "X_test1  = scaler.transform(X_test)"
   ]
  },
  {
   "cell_type": "code",
   "execution_count": 242,
   "id": "2b5c9f3c-95be-4c7a-a25b-368c152a3741",
   "metadata": {},
   "outputs": [
    {
     "data": {
      "text/plain": [
       "KNeighborsRegressor(n_neighbors=7, weights='distance')"
      ]
     },
     "execution_count": 242,
     "metadata": {},
     "output_type": "execute_result"
    }
   ],
   "source": [
    "impute.fit(X_train1,y_train)"
   ]
  },
  {
   "cell_type": "code",
   "execution_count": 247,
   "id": "7f67fc53-9608-463f-9589-be699b745503",
   "metadata": {
    "tags": []
   },
   "outputs": [
    {
     "data": {
      "text/html": [
       "<div>\n",
       "<style scoped>\n",
       "    .dataframe tbody tr th:only-of-type {\n",
       "        vertical-align: middle;\n",
       "    }\n",
       "\n",
       "    .dataframe tbody tr th {\n",
       "        vertical-align: top;\n",
       "    }\n",
       "\n",
       "    .dataframe thead th {\n",
       "        text-align: right;\n",
       "    }\n",
       "</style>\n",
       "<table border=\"1\" class=\"dataframe\">\n",
       "  <thead>\n",
       "    <tr style=\"text-align: right;\">\n",
       "      <th></th>\n",
       "      <th>pages</th>\n",
       "      <th>weight</th>\n",
       "      <th>width</th>\n",
       "      <th>length</th>\n",
       "      <th>cover_EBook</th>\n",
       "      <th>cover_Hard Cover</th>\n",
       "      <th>cover_Soft Cover</th>\n",
       "      <th>price</th>\n",
       "    </tr>\n",
       "  </thead>\n",
       "  <tbody>\n",
       "    <tr>\n",
       "      <th>3974</th>\n",
       "      <td>272.0</td>\n",
       "      <td>0.200</td>\n",
       "      <td>20.0</td>\n",
       "      <td>13.5</td>\n",
       "      <td>0</td>\n",
       "      <td>0</td>\n",
       "      <td>1</td>\n",
       "      <td>56257.580581</td>\n",
       "    </tr>\n",
       "    <tr>\n",
       "      <th>3069</th>\n",
       "      <td>220.0</td>\n",
       "      <td>0.230</td>\n",
       "      <td>21.0</td>\n",
       "      <td>14.5</td>\n",
       "      <td>0</td>\n",
       "      <td>0</td>\n",
       "      <td>1</td>\n",
       "      <td>57988.077883</td>\n",
       "    </tr>\n",
       "    <tr>\n",
       "      <th>1248</th>\n",
       "      <td>117.0</td>\n",
       "      <td>0.265</td>\n",
       "      <td>25.5</td>\n",
       "      <td>20.5</td>\n",
       "      <td>0</td>\n",
       "      <td>0</td>\n",
       "      <td>1</td>\n",
       "      <td>40005.394100</td>\n",
       "    </tr>\n",
       "    <tr>\n",
       "      <th>4561</th>\n",
       "      <td>288.0</td>\n",
       "      <td>0.160</td>\n",
       "      <td>20.0</td>\n",
       "      <td>13.5</td>\n",
       "      <td>0</td>\n",
       "      <td>0</td>\n",
       "      <td>1</td>\n",
       "      <td>71500.000000</td>\n",
       "    </tr>\n",
       "    <tr>\n",
       "      <th>274</th>\n",
       "      <td>40.0</td>\n",
       "      <td>0.040</td>\n",
       "      <td>20.0</td>\n",
       "      <td>14.0</td>\n",
       "      <td>0</td>\n",
       "      <td>0</td>\n",
       "      <td>1</td>\n",
       "      <td>5600.000000</td>\n",
       "    </tr>\n",
       "    <tr>\n",
       "      <th>5060</th>\n",
       "      <td>234.0</td>\n",
       "      <td>0.175</td>\n",
       "      <td>18.0</td>\n",
       "      <td>11.0</td>\n",
       "      <td>0</td>\n",
       "      <td>0</td>\n",
       "      <td>1</td>\n",
       "      <td>57874.665105</td>\n",
       "    </tr>\n",
       "    <tr>\n",
       "      <th>3238</th>\n",
       "      <td>218.0</td>\n",
       "      <td>0.350</td>\n",
       "      <td>20.5</td>\n",
       "      <td>16.0</td>\n",
       "      <td>0</td>\n",
       "      <td>0</td>\n",
       "      <td>1</td>\n",
       "      <td>72395.495151</td>\n",
       "    </tr>\n",
       "    <tr>\n",
       "      <th>4849</th>\n",
       "      <td>256.0</td>\n",
       "      <td>0.180</td>\n",
       "      <td>19.5</td>\n",
       "      <td>13.0</td>\n",
       "      <td>0</td>\n",
       "      <td>0</td>\n",
       "      <td>1</td>\n",
       "      <td>78627.119315</td>\n",
       "    </tr>\n",
       "    <tr>\n",
       "      <th>3812</th>\n",
       "      <td>388.0</td>\n",
       "      <td>0.480</td>\n",
       "      <td>20.0</td>\n",
       "      <td>13.0</td>\n",
       "      <td>0</td>\n",
       "      <td>0</td>\n",
       "      <td>1</td>\n",
       "      <td>85133.602364</td>\n",
       "    </tr>\n",
       "    <tr>\n",
       "      <th>3383</th>\n",
       "      <td>142.0</td>\n",
       "      <td>0.280</td>\n",
       "      <td>24.0</td>\n",
       "      <td>16.0</td>\n",
       "      <td>0</td>\n",
       "      <td>0</td>\n",
       "      <td>1</td>\n",
       "      <td>56499.451161</td>\n",
       "    </tr>\n",
       "  </tbody>\n",
       "</table>\n",
       "</div>"
      ],
      "text/plain": [
       "      pages  weight  width  length  cover_EBook  cover_Hard Cover  \\\n",
       "3974  272.0  0.200   20.0   13.5    0            0                  \n",
       "3069  220.0  0.230   21.0   14.5    0            0                  \n",
       "1248  117.0  0.265   25.5   20.5    0            0                  \n",
       "4561  288.0  0.160   20.0   13.5    0            0                  \n",
       "274   40.0   0.040   20.0   14.0    0            0                  \n",
       "5060  234.0  0.175   18.0   11.0    0            0                  \n",
       "3238  218.0  0.350   20.5   16.0    0            0                  \n",
       "4849  256.0  0.180   19.5   13.0    0            0                  \n",
       "3812  388.0  0.480   20.0   13.0    0            0                  \n",
       "3383  142.0  0.280   24.0   16.0    0            0                  \n",
       "\n",
       "      cover_Soft Cover         price  \n",
       "3974  1                 56257.580581  \n",
       "3069  1                 57988.077883  \n",
       "1248  1                 40005.394100  \n",
       "4561  1                 71500.000000  \n",
       "274   1                 5600.000000   \n",
       "5060  1                 57874.665105  \n",
       "3238  1                 72395.495151  \n",
       "4849  1                 78627.119315  \n",
       "3812  1                 85133.602364  \n",
       "3383  1                 56499.451161  "
      ]
     },
     "execution_count": 247,
     "metadata": {},
     "output_type": "execute_result"
    }
   ],
   "source": [
    "df_t = pd.concat([X_test,pd.DataFrame(impute.predict(X_test1),index=X_test.index)],axis=1).rename({0:'price'},axis=1)\n",
    "df_t.sample(10,random_state=0)"
   ]
  },
  {
   "cell_type": "code",
   "execution_count": 249,
   "id": "be4d0654-670b-41f5-b069-ddf231d3317c",
   "metadata": {},
   "outputs": [
    {
     "data": {
      "text/html": [
       "<div>\n",
       "<style scoped>\n",
       "    .dataframe tbody tr th:only-of-type {\n",
       "        vertical-align: middle;\n",
       "    }\n",
       "\n",
       "    .dataframe tbody tr th {\n",
       "        vertical-align: top;\n",
       "    }\n",
       "\n",
       "    .dataframe thead th {\n",
       "        text-align: right;\n",
       "    }\n",
       "</style>\n",
       "<table border=\"1\" class=\"dataframe\">\n",
       "  <thead>\n",
       "    <tr style=\"text-align: right;\">\n",
       "      <th></th>\n",
       "      <th>pages</th>\n",
       "      <th>weight</th>\n",
       "      <th>width</th>\n",
       "      <th>length</th>\n",
       "      <th>cover_EBook</th>\n",
       "      <th>cover_Hard Cover</th>\n",
       "      <th>cover_Soft Cover</th>\n",
       "      <th>price</th>\n",
       "    </tr>\n",
       "  </thead>\n",
       "  <tbody>\n",
       "    <tr>\n",
       "      <th>38</th>\n",
       "      <td>30.0</td>\n",
       "      <td>0.045</td>\n",
       "      <td>20.0</td>\n",
       "      <td>14.0</td>\n",
       "      <td>0</td>\n",
       "      <td>0</td>\n",
       "      <td>1</td>\n",
       "      <td>8828.193662</td>\n",
       "    </tr>\n",
       "    <tr>\n",
       "      <th>41</th>\n",
       "      <td>152.0</td>\n",
       "      <td>0.215</td>\n",
       "      <td>23.0</td>\n",
       "      <td>15.5</td>\n",
       "      <td>0</td>\n",
       "      <td>0</td>\n",
       "      <td>1</td>\n",
       "      <td>60844.299069</td>\n",
       "    </tr>\n",
       "    <tr>\n",
       "      <th>88</th>\n",
       "      <td>40.0</td>\n",
       "      <td>0.040</td>\n",
       "      <td>20.0</td>\n",
       "      <td>14.0</td>\n",
       "      <td>0</td>\n",
       "      <td>0</td>\n",
       "      <td>1</td>\n",
       "      <td>5600.000000</td>\n",
       "    </tr>\n",
       "    <tr>\n",
       "      <th>91</th>\n",
       "      <td>320.0</td>\n",
       "      <td>0.250</td>\n",
       "      <td>20.5</td>\n",
       "      <td>12.5</td>\n",
       "      <td>0</td>\n",
       "      <td>0</td>\n",
       "      <td>1</td>\n",
       "      <td>68182.883152</td>\n",
       "    </tr>\n",
       "    <tr>\n",
       "      <th>168</th>\n",
       "      <td>40.0</td>\n",
       "      <td>0.040</td>\n",
       "      <td>20.0</td>\n",
       "      <td>14.0</td>\n",
       "      <td>0</td>\n",
       "      <td>0</td>\n",
       "      <td>1</td>\n",
       "      <td>5600.000000</td>\n",
       "    </tr>\n",
       "  </tbody>\n",
       "</table>\n",
       "</div>"
      ],
      "text/plain": [
       "     pages  weight  width  length  cover_EBook  cover_Hard Cover  \\\n",
       "38   30.0   0.045   20.0   14.0    0            0                  \n",
       "41   152.0  0.215   23.0   15.5    0            0                  \n",
       "88   40.0   0.040   20.0   14.0    0            0                  \n",
       "91   320.0  0.250   20.5   12.5    0            0                  \n",
       "168  40.0   0.040   20.0   14.0    0            0                  \n",
       "\n",
       "     cover_Soft Cover         price  \n",
       "38   1                 8828.193662   \n",
       "41   1                 60844.299069  \n",
       "88   1                 5600.000000   \n",
       "91   1                 68182.883152  \n",
       "168  1                 5600.000000   "
      ]
     },
     "execution_count": 249,
     "metadata": {},
     "output_type": "execute_result"
    }
   ],
   "source": [
    "df_t.head()"
   ]
  },
  {
   "cell_type": "markdown",
   "id": "221a778b-edfb-46e9-8ace-4777310cb5eb",
   "metadata": {},
   "source": [
    "After **validating** 15 sample **outcomes** of KNN regressor prediction above with the real price of the book ( *from Shopee and Tokopedia marketplace, since there is no information in Gramedia's website* ), the result is **satisfying** ( Lots of values have the same price and others are close with their real values ). Thus, let's put them into real dataset"
   ]
  },
  {
   "cell_type": "code",
   "execution_count": 251,
   "id": "a9da1a08-9d91-4765-a2e8-6d77ad089205",
   "metadata": {},
   "outputs": [],
   "source": [
    "df2.loc[df_t.price.index,'price'] = df_t.price"
   ]
  },
  {
   "cell_type": "code",
   "execution_count": 252,
   "id": "151df726-ba9a-470f-a770-7da72fee1859",
   "metadata": {},
   "outputs": [
    {
     "data": {
      "text/plain": [
       "count    6083.000000  \n",
       "mean     67784.738243 \n",
       "std      35689.999481 \n",
       "min      4800.000000  \n",
       "25%      43200.000000 \n",
       "50%      61200.000000 \n",
       "75%      87200.000000 \n",
       "max      299000.000000\n",
       "Name: price, dtype: float64"
      ]
     },
     "execution_count": 252,
     "metadata": {},
     "output_type": "execute_result"
    }
   ],
   "source": [
    "df2.price.describe()"
   ]
  },
  {
   "cell_type": "markdown",
   "id": "a0c2dbe1-a671-4c09-b0ae-8b19466c7751",
   "metadata": {},
   "source": [
    "- Mean : from 68175.71 into 677844\n",
    "- Median : from 60720 into 61200"
   ]
  },
  {
   "cell_type": "markdown",
   "id": "bc6b9ced-aefa-4d96-8e19-d18f6b4defed",
   "metadata": {},
   "source": [
    "The outcomes seem a bit better. Since the gap between mean and median is closer. It means that the skewness was decreased"
   ]
  },
  {
   "cell_type": "code",
   "execution_count": 253,
   "id": "e86d1e78-f004-4c95-a437-81786af04cd1",
   "metadata": {},
   "outputs": [
    {
     "data": {
      "image/png": "[encoded data removed]",
      "text/plain": [
       "<Figure size 648x360 with 1 Axes>"
      ]
     },
     "metadata": {
      "needs_background": "light"
     },
     "output_type": "display_data"
    }
   ],
   "source": [
    "plt.figure(figsize=(9,5))\n",
    "sns.boxplot(df2.price,fliersize=3,linewidth=0.6,color='tab:blue')\n",
    "plt.grid(False)\n",
    "plt.show()"
   ]
  },
  {
   "cell_type": "markdown",
   "id": "d6a489ec-101b-4fe1-ad63-5360728c114b",
   "metadata": {
    "tags": []
   },
   "source": [
    "#### **Region**"
   ]
  },
  {
   "cell_type": "code",
   "execution_count": 254,
   "id": "e2451376-e1b7-4a5f-92dc-638a0c7779e4",
   "metadata": {},
   "outputs": [
    {
     "data": {
      "text/plain": [
       "Jakarta Timur        3101\n",
       "Depok                940 \n",
       "Jakarta Selatan      386 \n",
       "Kota Bekasi          320 \n",
       "Tangerang Selatan    298 \n",
       "Kab Tangerang        167 \n",
       "Kota Bogor           102 \n",
       "Jakarta Barat        67  \n",
       "Jakarta Utara        50  \n",
       "Kota Bandung         44  \n",
       "Kab Bogor            42  \n",
       "Jakarta Pusat        37  \n",
       "Kota Tangerang       32  \n",
       "Karawang             14  \n",
       "Kota Tasikmalaya     5   \n",
       "Kota Cirebon         5   \n",
       "Kota Sukabumi        5   \n",
       "Garut                5   \n",
       "Purwakarta           2   \n",
       "Bekasi               1   \n",
       "Manado               1   \n",
       "Name: region, dtype: int64"
      ]
     },
     "execution_count": 254,
     "metadata": {},
     "output_type": "execute_result"
    }
   ],
   "source": [
    "df2.region.value_counts()"
   ]
  },
  {
   "cell_type": "markdown",
   "id": "5998530f-9381-4e79-855a-1dd7d2a9819b",
   "metadata": {},
   "source": [
    "Most store is in **Jakarta Timur** region. Followed by Depok, Jakarta Selatan, etc. "
   ]
  },
  {
   "cell_type": "markdown",
   "id": "d370c236-bd00-4b92-af41-91530543d56c",
   "metadata": {},
   "source": [
    "From the data above we can say that the store in Jabodetabek area is more than outside Jabodetabek. So, we will bining this variable into **\"jabodetabek\"** and **\"non-jabodetabek\"**"
   ]
  },
  {
   "cell_type": "markdown",
   "id": "64178e0d-7703-4326-8518-1aaf4f0e25ec",
   "metadata": {},
   "source": [
    "*N.B. : Jabodetabek are Jakarta, Bogor, Depok, Tangerang, and Bekasi*\n",
    "- reference : https://steemit.com/jabodetabek/@jabodetabek/what-is-jabodetabek"
   ]
  },
  {
   "cell_type": "code",
   "execution_count": 255,
   "id": "3574cd89-5031-4463-95b7-08e6c4f4caf5",
   "metadata": {},
   "outputs": [],
   "source": [
    "df2['region'] = df2['region'].fillna(df2['region'].mode()[0])\n",
    "\n",
    "# jabodetabek\n",
    "df2.loc[df2[df2.region.str.contains('Jakarta')].index,'region']   = 'jabodetabek'\n",
    "df2.loc[df2[df2.region.str.contains('Depok')].index,'region']     = 'jabodetabek'\n",
    "df2.loc[df2[df2.region.str.contains('Bekasi')].index,'region']    = 'jabodetabek'\n",
    "df2.loc[df2[df2.region.str.contains('Tangerang')].index,'region'] = 'jabodetabek'\n",
    "df2.loc[df2[df2.region.str.contains('Bogor')].index,'region']     = 'jabodetabek'\n",
    "\n",
    "# non jabodetabek\n",
    "df2.loc[df2[~(df2.region.str.contains('jabodetabek'))].index,'region']  = 'non-jabodetabek'"
   ]
  },
  {
   "cell_type": "code",
   "execution_count": 275,
   "id": "46be9096-ab42-4cb5-ad8a-8e1e4ee97d64",
   "metadata": {},
   "outputs": [
    {
     "data": {
      "image/png": "[encoded data removed]",
      "text/plain": [
       "<Figure size 648x360 with 1 Axes>"
      ]
     },
     "metadata": {
      "needs_background": "light"
     },
     "output_type": "display_data"
    }
   ],
   "source": [
    "plt.figure(figsize=(9,5))\n",
    "sns.countplot(df2.region,palette=['tab:gray','tab:blue'])\n",
    "plt.yticks([(df2.region=='jabodetabek').sum(),(df2.region=='non-jabodetabek').sum()])\n",
    "plt.show()"
   ]
  },
  {
   "cell_type": "markdown",
   "id": "b57e5f8e-8845-489d-b6fe-df29a4eb637d",
   "metadata": {
    "jupyter": {
     "outputs_hidden": true
    },
    "tags": []
   },
   "source": [
    "It does make sense. Since Jabodetabek is the capital and central of business area, the store mostly located in there"
   ]
  },
  {
   "cell_type": "markdown",
   "id": "8a29714e-1946-4f77-a4da-6934b5b46a8e",
   "metadata": {
    "jupyter": {
     "outputs_hidden": true
    },
    "tags": []
   },
   "source": [
    "#### **Publisher**"
   ]
  },
  {
   "cell_type": "markdown",
   "id": "8d1cf35e-571b-4363-918e-e6d08bf2ad5c",
   "metadata": {
    "jupyter": {
     "outputs_hidden": true
    },
    "tags": []
   },
   "source": [
    "I'll make it into **gramedia** and **non gramedia** publisher"
   ]
  },
  {
   "cell_type": "markdown",
   "id": "6e7744f8-f17c-415d-87c3-7de8414044fe",
   "metadata": {
    "jupyter": {
     "outputs_hidden": true
    },
    "tags": []
   },
   "source": [
    "- gramedia : Elex Media Komputindo, m&c!, Bhuana Ilmu Populer, and other names contains 'gramedia'\n",
    "- non gramedia : else"
   ]
  },
  {
   "cell_type": "markdown",
   "id": "126f4dcd-02d3-476d-b056-e984aa25f114",
   "metadata": {
    "jupyter": {
     "outputs_hidden": true
    },
    "tags": []
   },
   "source": [
    "Reference : https://www.kompasgramedia.com/business/retail-publishing"
   ]
  },
  {
   "cell_type": "code",
   "execution_count": 257,
   "id": "66c11726-4929-4634-9025-1817a6fcd833",
   "metadata": {
    "tags": []
   },
   "outputs": [],
   "source": [
    "# gramedia\n",
    "df2.loc[df2[df2.publisher.str.contains('Gramedia')].index,'publisher'] = 'gramedia'\n",
    "df2.loc[df2[df2.publisher.str.contains('Bhuana Ilmu Populer')].index,'publisher'] = 'gramedia'\n",
    "df2.loc[df2[df2.publisher.str.contains('Elex Media Komputindo')].index,'publisher'] = 'gramedia'\n",
    "df2.loc[df2[df2.publisher.str.contains('m&c!')].index,'publisher'] = 'gramedia'\n",
    "\n",
    "# non gramedia\n",
    "df2.loc[df2[~(df2.publisher.str.contains('gramedia'))].index,'publisher'] = 'non-gramedia'"
   ]
  },
  {
   "cell_type": "code",
   "execution_count": 271,
   "id": "18e9d143-4bbc-4258-8974-b149409445cc",
   "metadata": {
    "tags": []
   },
   "outputs": [
    {
     "data": {
      "image/png": "[encoded data removed]",
      "text/plain": [
       "<Figure size 648x360 with 1 Axes>"
      ]
     },
     "metadata": {
      "needs_background": "light"
     },
     "output_type": "display_data"
    }
   ],
   "source": [
    "plt.figure(figsize=(9,5))\n",
    "sns.countplot(df2.publisher,palette=['tab:gray','tab:blue'])\n",
    "plt.yticks([(df2.publisher=='non-gramedia').sum(),(df2.publisher=='gramedia').sum()])\n",
    "plt.show()"
   ]
  },
  {
   "cell_type": "markdown",
   "id": "668e2989-3e03-4c20-b8fb-02b66c3eef16",
   "metadata": {
    "tags": []
   },
   "source": [
    "Interesting! Gramedia **sold more non-gramedia books** than theirs. Even though Gramedia is the biggest retail book in Indonesia, they aren't standalone. So many third-parties contribute onto their shelves-store"
   ]
  },
  {
   "cell_type": "markdown",
   "id": "9fc9d7d4-3456-47ad-a3ee-e2a029830c92",
   "metadata": {
    "tags": []
   },
   "source": [
    "### The year of publication"
   ]
  },
  {
   "cell_type": "markdown",
   "id": "05bcdad5-9c81-4f08-b0a1-cba81019e971",
   "metadata": {
    "tags": []
   },
   "source": [
    "To identify whether the pandemic caused or not on book prices at Gramedia, we will split the published year into before and during pandemic. According to https://www.halodoc.com/artikel/kronologi-lengkap-virus-corona-masuk-indonesia , the first covid case in Indonesia occured on Mar 2, 2021"
   ]
  },
  {
   "cell_type": "code",
   "execution_count": 279,
   "id": "b04275da-2d55-48a6-b101-c2051e16f77f",
   "metadata": {
    "tags": []
   },
   "outputs": [],
   "source": [
    "df2.replace({'publish_date':{' Jan ':'-1-',\n",
    "                             ' Feb ':'-2-',\n",
    "                             ' Mar ':'-3-',\n",
    "                             ' Apr ':'-4-',\n",
    "                             ' Mei ':'-5-',\n",
    "                             ' Jun ':'-6-',\n",
    "                             ' Jul ':'-7-',\n",
    "                             ' Agt ':'-8-',\n",
    "                             ' Sep ':'-9-',\n",
    "                             ' Okt ':'-10-',\n",
    "                             ' Nov ':'-11-',\n",
    "                             ' Des ':'-12-'\n",
    "                            }},regex=True,inplace=True)\n",
    "\n",
    "df2['publish_date'] = pd.to_datetime(df2['publish_date'])\n",
    "pandemic = df2[df2['publish_date']>='2021-03-02']"
   ]
  },
  {
   "cell_type": "code",
   "execution_count": 280,
   "id": "cb185f71-69f7-44e6-8073-6da5a6b861ce",
   "metadata": {
    "tags": []
   },
   "outputs": [],
   "source": [
    "df2['pandemic'] = 0\n",
    "df2.loc[pandemic.index,'pandemic'] = 1 # during pandemic\n",
    "df2.loc[df2.drop(index=pandemic.index).index,'pandemic'] = 0 # before pandemic"
   ]
  },
  {
   "cell_type": "code",
   "execution_count": 281,
   "id": "a2b67b3f-2c58-4d59-853e-4fdca64a5b4d",
   "metadata": {
    "tags": []
   },
   "outputs": [
    {
     "data": {
      "image/png": "[encoded data removed]",
      "text/plain": [
       "<Figure size 648x360 with 1 Axes>"
      ]
     },
     "metadata": {
      "needs_background": "light"
     },
     "output_type": "display_data"
    }
   ],
   "source": [
    "plt.figure(figsize=(9,5))\n",
    "sns.countplot(df2.pandemic,palette=['tab:blue','tab:red'])\n",
    "plt.xticks([0,1],['Before','During'])\n",
    "plt.yticks([(df2.pandemic==0).sum(),(df2.pandemic==1).sum()])\n",
    "plt.show()"
   ]
  },
  {
   "cell_type": "markdown",
   "id": "eeea4a8a-2bcd-4805-b96c-13a47a2994f2",
   "metadata": {
    "tags": []
   },
   "source": [
    "### Create new column ( area )"
   ]
  },
  {
   "cell_type": "markdown",
   "id": "5b4ce789-911c-4a73-a566-f6d676108422",
   "metadata": {
    "tags": []
   },
   "source": [
    "As I mentioned before, I'll create \"area\" column from multiplication between width and length"
   ]
  },
  {
   "cell_type": "markdown",
   "id": "e469c5a7-e171-429a-8571-083c3a5f41c0",
   "metadata": {
    "tags": []
   },
   "source": [
    "This variable could be considered for the model later"
   ]
  },
  {
   "cell_type": "code",
   "execution_count": 282,
   "id": "e071b9ac-0a73-4083-a0e2-05709be6894f",
   "metadata": {
    "tags": []
   },
   "outputs": [
    {
     "data": {
      "image/png": "[encoded data removed]",
      "text/plain": [
       "<Figure size 1080x360 with 1 Axes>"
      ]
     },
     "metadata": {
      "needs_background": "light"
     },
     "output_type": "display_data"
    }
   ],
   "source": [
    "df2['area'] = df2.length*df2.width\n",
    "\n",
    "sns.boxplot(df2.area,fliersize=3)\n",
    "plt.show()"
   ]
  },
  {
   "cell_type": "markdown",
   "id": "d2520ebb-90ba-4bee-9a19-ca0b8d1be772",
   "metadata": {},
   "source": [
    "- There is one value ( larger than 800 m2 ) far from its friends. Let's drop it"
   ]
  },
  {
   "cell_type": "code",
   "execution_count": 154,
   "id": "8013e9cf-29af-4c12-a135-4ece38ff62e0",
   "metadata": {},
   "outputs": [],
   "source": [
    "df2 = df2[df2.area<800]"
   ]
  },
  {
   "cell_type": "markdown",
   "id": "b50a0120-ed90-4a47-896b-a84c2ddf3c9a",
   "metadata": {
    "tags": []
   },
   "source": [
    "## Bivariate Analysis"
   ]
  },
  {
   "cell_type": "code",
   "execution_count": 155,
   "id": "251a92a3-672e-4549-abaa-e88eb821c9e6",
   "metadata": {
    "tags": []
   },
   "outputs": [],
   "source": [
    "def cat_visualize(data,colors):\n",
    "    rcParams['axes.prop_cycle'] = cycler(color=colors)\n",
    "    fig, ax = plt.subplots(2,3,figsize=(21,9))\n",
    "    sns.boxplot(data.cover,data.price,ax=ax[0,0],fliersize=3,linewidth=0.6)\n",
    "    sns.boxplot(data.publisher,data.price,ax=ax[0,1],fliersize=3,linewidth=0.6)\n",
    "    sns.boxplot(data.language,data.price,ax=ax[1,1],fliersize=3,linewidth=0.6)\n",
    "    sns.boxplot(data.region,data.price,ax=ax[1,0],fliersize=3,linewidth=0.6)\n",
    "    sns.boxplot(data.category,data.price,ax=ax[0,2],fliersize=3,linewidth=0.6)\n",
    "    sns.boxplot(data.subcategory,data.price,ax=ax[1,2],fliersize=3,linewidth=0.6)\n",
    "    ax[1,2].set_xticklabels(labels=[i for i in data.subcategory.unique()],rotation=60)\n",
    "    plt.show()"
   ]
  },
  {
   "cell_type": "code",
   "execution_count": 298,
   "id": "290327aa-a453-4cf3-92d8-6ec5af8c5b47",
   "metadata": {
    "tags": []
   },
   "outputs": [],
   "source": [
    "from cycler import cycler\n",
    "def num_visualize(data,colors):\n",
    "    num = ['weight','area','pages','length','width']\n",
    "    rcParams['axes.prop_cycle'] = cycler(color=[colors])\n",
    "    plt.figure(figsize=(20,10))\n",
    "    for i in range(len(num)):\n",
    "        plt.subplot(2, 3, i+1)\n",
    "        sns.scatterplot(data[num[i]],data.price)\n",
    "        \n",
    "def cat_visualize(data,colors):\n",
    "    cat = ['cover', 'publisher', 'language', 'region', 'category', 'subcategory','pandemic']\n",
    "    rcParams['axes.prop_cycle'] = cycler(color=colors)\n",
    "    plt.figure(figsize=(20,10))\n",
    "    for i in range(len(cat)):\n",
    "        plt.subplot(2, 4, i+1)\n",
    "        sns.boxplot(data[cat[i]],data.price)\n",
    "        plt.xticks(rotation=40)\n",
    "        plt.xlabel('')"
   ]
  },
  {
   "cell_type": "markdown",
   "id": "b055bc3b-a78f-418f-b798-5c7bcede6759",
   "metadata": {
    "tags": []
   },
   "source": [
    "### Weight, width, length, area, the year of publication, and pages"
   ]
  },
  {
   "cell_type": "code",
   "execution_count": 284,
   "id": "49777a3b-9073-4bac-9543-02ff93452736",
   "metadata": {
    "tags": []
   },
   "outputs": [
    {
     "data": {
      "image/png": "[encoded data removed]",
      "text/plain": [
       "<Figure size 1440x720 with 5 Axes>"
      ]
     },
     "metadata": {
      "needs_background": "light"
     },
     "output_type": "display_data"
    }
   ],
   "source": [
    "num_visualize(df2,'tab:blue')"
   ]
  },
  {
   "cell_type": "markdown",
   "id": "1bd253ce-ac74-4c0d-ab93-f5c28f38f6a2",
   "metadata": {},
   "source": [
    "### Weight, width, length, area, the year of publication, and pages **(without ebook)**"
   ]
  },
  {
   "cell_type": "code",
   "execution_count": 285,
   "id": "1710a41e-3a47-4134-95cb-298ad724c245",
   "metadata": {},
   "outputs": [
    {
     "data": {
      "image/png": "[encoded data removed]",
      "text/plain": [
       "<Figure size 1440x720 with 5 Axes>"
      ]
     },
     "metadata": {
      "needs_background": "light"
     },
     "output_type": "display_data"
    }
   ],
   "source": [
    "df_e = df2[df2.cover!='EBook']\n",
    "num_visualize(df_e,'tab:red')"
   ]
  },
  {
   "cell_type": "markdown",
   "id": "0daf325e-3f5c-47be-819f-154669af8a7d",
   "metadata": {},
   "source": [
    "### Brief summary for numerical data "
   ]
  },
  {
   "cell_type": "code",
   "execution_count": 303,
   "id": "6a027aee-4d7c-419d-a96e-0b42186f6163",
   "metadata": {},
   "outputs": [
    {
     "name": "stdout",
     "output_type": "stream",
     "text": [
      "Number of data : 6083\n",
      "\u001b[1mSkewness\u001b[0;0m\n",
      "pages       1.588847\n",
      "weight      1.859323\n",
      "width      -0.697667\n",
      "length      0.148297\n",
      "price       1.506425\n",
      "pandemic    0.889050\n",
      "area        1.136573\n",
      "dtype: float64\n",
      "\n",
      "Number of data (without E-Book) : 6055\n",
      "\u001b[1mSkewness \u001b[0;0m\n",
      "pages       1.589498\n",
      "weight      1.882513\n",
      "width       0.824035\n",
      "length      1.131060\n",
      "price       1.504197\n",
      "pandemic    0.883848\n",
      "area        1.350275\n",
      "dtype: float64\n"
     ]
    }
   ],
   "source": [
    "bold_s = \"\\033[1m\"\n",
    "bold_e = \"\\033[0;0m\"\n",
    "\n",
    "print('Number of data :',df2.shape[0])\n",
    "print(bold_s +'Skewness' + bold_e)\n",
    "print(df2[df2.area<800].skew())\n",
    "\n",
    "print('\\nNumber of data (without E-Book) :',df_e.shape[0])\n",
    "print(bold_s +'Skewness ' + bold_e)\n",
    "print(df_e.skew())"
   ]
  },
  {
   "cell_type": "markdown",
   "id": "36d03868-cf85-4d2c-a11a-c5b8de12c145",
   "metadata": {},
   "source": [
    "There is **no significant effect** after removing EBook. Even, the result seems like worse if we exclude the EBook. Thus we'll keep the EBook types for now"
   ]
  },
  {
   "cell_type": "markdown",
   "id": "439c9dfc-53a5-41b8-94f1-31318517777a",
   "metadata": {},
   "source": [
    "### Cover, Publisher, Language, Region, Category, Subcategory"
   ]
  },
  {
   "cell_type": "code",
   "execution_count": 304,
   "id": "07f2c7cc-1400-48bf-acee-36d485c593c6",
   "metadata": {},
   "outputs": [
    {
     "data": {
      "image/png": "[encoded data removed]",
      "text/plain": [
       "<Figure size 1440x720 with 7 Axes>"
      ]
     },
     "metadata": {
      "needs_background": "light"
     },
     "output_type": "display_data"
    }
   ],
   "source": [
    "cat_visualize(df2,['lightgrey','tab:blue','lightgrey'])"
   ]
  },
  {
   "cell_type": "code",
   "execution_count": 306,
   "id": "ed186967-a35a-41fc-b31b-1c10f08a6296",
   "metadata": {},
   "outputs": [],
   "source": [
    "df2.to_csv('D:/Data/gramed/cleaned_data.csv',index=False)"
   ]
  },
  {
   "cell_type": "code",
   "execution_count": null,
   "id": "e10d5a63-f7db-4422-ade0-fd719ae95b7e",
   "metadata": {},
   "outputs": [],
   "source": []
  }
 ],
 "metadata": {
  "kernelspec": {
   "display_name": "Python 3 (ipykernel)",
   "language": "python",
   "name": "python3"
  },
  "language_info": {
   "codemirror_mode": {
    "name": "ipython",
    "version": 3
   },
   "file_extension": ".py",
   "mimetype": "text/x-python",
   "name": "python",
   "nbconvert_exporter": "python",
   "pygments_lexer": "ipython3",
   "version": "3.9.6"
  }
 },
 "nbformat": 4,
 "nbformat_minor": 5
}
